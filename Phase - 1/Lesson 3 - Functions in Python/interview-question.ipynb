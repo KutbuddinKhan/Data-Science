{
 "cells": [
  {
   "cell_type": "markdown",
   "id": "ae1b6b69",
   "metadata": {},
   "source": [
    "## 10 Python Functions — Interview Questions"
   ]
  },
  {
   "cell_type": "markdown",
   "id": "5f1cf644",
   "metadata": {},
   "source": [
    "Q1. What is a function and why are functions used in Python?\n",
    "\n",
    "Answer:\n",
    "\n",
    "A function is a reusable block of code that performs a specific task.\n",
    "\n",
    "    We use functions because:\n",
    "\n",
    "    They help avoid code repetition\n",
    "\n",
    "    They make code organized and readable\n",
    "\n",
    "    They make debugging easier\n",
    "\n",
    "    They promote code reusability\n",
    "\n",
    "🔎 Example:"
   ]
  },
  {
   "cell_type": "code",
   "execution_count": 19,
   "metadata": {},
   "outputs": [],
   "source": [
    "def grert():\n",
    "    print(\"Hello, World!\")"
   ]
  },
  {
   "cell_type": "markdown",
   "id": "0cbc0263",
   "metadata": {},
   "source": [
    "Q2. What is the difference between parameters and arguments in functions?\n",
    "Answer:\n",
    "\n",
    "\n",
    "Parameter\t                            Argument\n",
    "Name used inside function definition\tActual value passed during function call\n",
    "🔎 Example:"
   ]
  },
  {
   "cell_type": "code",
   "execution_count": 20,
   "id": "7f988a86",
   "metadata": {},
   "outputs": [
    {
     "name": "stdout",
     "output_type": "stream",
     "text": [
      "Hello, Alice!\n"
     ]
    }
   ],
   "source": [
    "def greet(name): # 'name' is a parameter\n",
    "    print(\"Hello, \" + name + \"!\")\n",
    "\n",
    "greet(\"Alice\") # 'Alice' is an argument"
   ]
  },
  {
   "cell_type": "markdown",
   "id": "c8c566cf",
   "metadata": {},
   "source": [
    "Q3. Can a function return multiple values? If yes, how?\n",
    "Answer:\n",
    "✅ Yes! In Python, a function can return multiple values separated by commas. It actually returns them as a tuple.\n",
    "\n",
    "🔎 Example:"
   ]
  },
  {
   "cell_type": "code",
   "execution_count": 21,
   "id": "98de1d5e",
   "metadata": {},
   "outputs": [
    {
     "name": "stdout",
     "output_type": "stream",
     "text": [
      "Sum is: 15\n",
      "Difference is: 5\n"
     ]
    },
    {
     "data": {
      "text/plain": [
       "'\\n🔎 Explanation:\\n\\n    return x+y, x-y returns a tuple: (15, 5)\\n\\n    We unpack them into two variables.\\n'"
      ]
     },
     "execution_count": 21,
     "metadata": {},
     "output_type": "execute_result"
    }
   ],
   "source": [
    "def stats(x, y):\n",
    "    return x + y, x - y\n",
    "\n",
    "sum_result, diff_result = stats(10, 5) # Unpacking the returned tuple\n",
    "print(\"Sum is:\", sum_result)\n",
    "print(\"Difference is:\", diff_result)\n",
    "\n",
    "\"\"\"\n",
    "🔎 Explanation:\n",
    "\n",
    "    return x+y, x-y returns a tuple: (15, 5)\n",
    "\n",
    "    We unpack them into two variables.\n",
    "\"\"\""
   ]
  },
  {
   "cell_type": "markdown",
   "id": "ff287ef9",
   "metadata": {},
   "source": [
    "Q4. What is a default parameter value? Give an example.\n",
    "Answer:\n",
    "✅ A default parameter provides a default value if no argument is passed for that parameter.\n",
    "\n",
    "🔎 Explanation:\n",
    "\n",
    "If name is not passed, it will automatically use \"Guest\".\n",
    "\n",
    "🔎 Example:"
   ]
  },
  {
   "cell_type": "code",
   "execution_count": 22,
   "id": "3fca6d56",
   "metadata": {},
   "outputs": [
    {
     "name": "stdout",
     "output_type": "stream",
     "text": [
      "Hello, Alice!\n",
      "Hello, Bob!\n"
     ]
    }
   ],
   "source": [
    "def greet(name=\"Alice\"): # Default parameter\n",
    "    print(\"Hello, \" + name + \"!\")\n",
    "greet() # Calls with default value\n",
    "greet(\"Bob\") # Calls with provided value"
   ]
  },
  {
   "cell_type": "markdown",
   "id": "3ea5a626",
   "metadata": {},
   "source": [
    "Q5. What happens if you return multiple values but unpack into one variable?\n",
    "Answer:\n",
    "✅ All the returned values are packed inside one tuple.\n",
    "\n",
    "🔎 Explanation:\n",
    "\n",
    "    result will be a tuple → (5, 6)\n",
    "\n",
    "    You can later unpack like:\n",
    "        sum_val, product_val = result\n",
    "        \n",
    "🔎 Example:"
   ]
  },
  {
   "cell_type": "code",
   "execution_count": 23,
   "id": "044c593b",
   "metadata": {},
   "outputs": [
    {
     "name": "stdout",
     "output_type": "stream",
     "text": [
      "(5, 6)\n"
     ]
    }
   ],
   "source": [
    "def calc(x, y):\n",
    "    return x + y, x * y \n",
    "\n",
    "result = calc(2, 3) # result is a tuple (5, 6)\n",
    "print(result)"
   ]
  },
  {
   "cell_type": "markdown",
   "id": "12c6028b",
   "metadata": {},
   "source": [
    "Q6. What will be the output of this code?\n",
    "\n",
    "🔎 Explanation:\n",
    "\n",
    "    First add(2) → x=2, y=5 → 2+5=7\n",
    "\n",
    "    Then add(2, 3) → x=2, y=3 → 2+3=5"
   ]
  },
  {
   "cell_type": "code",
   "execution_count": 24,
   "id": "b1261925",
   "metadata": {},
   "outputs": [
    {
     "name": "stdout",
     "output_type": "stream",
     "text": [
      "7\n",
      "5\n"
     ]
    }
   ],
   "source": [
    "def add(x, y = 5):\n",
    "    return x + y\n",
    "print(add(2)) # Uses default value for y\n",
    "print(add(2, 3)) # Uses provided value for y"
   ]
  },
  {
   "cell_type": "markdown",
   "id": "8a08014e",
   "metadata": {},
   "source": [
    "Q7. What are keyword arguments and positional arguments?\n",
    "Answer:\n",
    "\n",
    "\n",
    "    Positional Argument\t    Keyword Argument\n",
    "    Based on order\t        Based on parameter name\n",
    "\n",
    "🔎 Explanation:\n",
    "\n",
    "    In positional, order matters.\n",
    "    In keyword, order doesn't matter because Python knows by names.\n",
    "\n",
    "🔎 Example:"
   ]
  },
  {
   "cell_type": "code",
   "execution_count": 25,
   "id": "8423c06b",
   "metadata": {},
   "outputs": [
    {
     "name": "stdout",
     "output_type": "stream",
     "text": [
      "Hello Alice, you are 30 years old!\n",
      "Hello Ali, you are 25 years old!\n"
     ]
    }
   ],
   "source": [
    "def greet(name, age):\n",
    "    print(f\"Hello {name}, you are {age} years old!\")\n",
    "\n",
    "greet(\"Alice\", 30) # Positional arguments\n",
    "greet(age=25, name=\"Ali\") # Keyword arguments"
   ]
  },
  {
   "cell_type": "markdown",
   "id": "4df0e699",
   "metadata": {},
   "source": [
    "Q8. Can a function call itself? What is it called?\n",
    "Answer:\n",
    "✅ Yes, a function can call itself.\n",
    "It’s called Recursion.\n",
    "\n",
    "🔎 Explanation:\n",
    "\n",
    "    The factorial() function calls itself until it reaches 1.\n",
    "\n",
    "🔎 Example:"
   ]
  },
  {
   "cell_type": "code",
   "execution_count": 26,
   "id": "a1eb5206",
   "metadata": {},
   "outputs": [
    {
     "name": "stdout",
     "output_type": "stream",
     "text": [
      "120\n"
     ]
    }
   ],
   "source": [
    "def factorial(n):\n",
    "    if n == 1:\n",
    "        return 1\n",
    "    else:\n",
    "        return n * factorial(n - 1) # Recursive function\n",
    "    \n",
    "print(factorial(5)) # Output: 120"
   ]
  },
  {
   "cell_type": "markdown",
   "id": "24966d7a",
   "metadata": {},
   "source": [
    "Q9. What happens if a function doesn't have a return statement?\n",
    "Answer:\n",
    "✅ If no return statement is provided, the function returns None.\n",
    "\n",
    "🔎 Explanation:\n",
    "\n",
    "    print() is inside function\n",
    "\n",
    "    Since there is no return, it automatically returns None.\n",
    "\n",
    "🔎 Example:"
   ]
  },
  {
   "cell_type": "code",
   "execution_count": 27,
   "id": "5d8f67f6",
   "metadata": {},
   "outputs": [
    {
     "name": "stdout",
     "output_type": "stream",
     "text": [
      "Hello, World!\n",
      "None\n"
     ]
    }
   ],
   "source": [
    "def greet():\n",
    "    print(\"Hello, World!\")\n",
    "\n",
    "x = greet() # Assigning function to a variable\n",
    "print(x) # Output: None, because greet() doesn't return anything"
   ]
  },
  {
   "cell_type": "markdown",
   "id": "ed2a18d9",
   "metadata": {},
   "source": [
    "Q10. Write a function to find the maximum of three numbers.\n",
    "\n",
    "🔎 Explanation:\n",
    "\n",
    "    Checks each condition one by one.\n",
    "\n",
    "    Returns the biggest number among the three.\n",
    "\n",
    "🔎 Example:"
   ]
  },
  {
   "cell_type": "code",
   "execution_count": 28,
   "id": "708edf19",
   "metadata": {},
   "outputs": [
    {
     "name": "stdout",
     "output_type": "stream",
     "text": [
      "20\n"
     ]
    }
   ],
   "source": [
    "def find_max(a, b, c):\n",
    "    if a > b and a > c:\n",
    "        return a \n",
    "    elif b > a and b > c:\n",
    "        return b\n",
    "    else:\n",
    "        return c\n",
    "    \n",
    "print(find_max(10, 20, 2)) # Output: 30"
   ]
  },
  {
   "cell_type": "code",
   "execution_count": null,
   "id": "4c10209d",
   "metadata": {},
   "outputs": [],
   "source": []
  }
 ],
 "metadata": {
  "kernelspec": {
   "display_name": "Python 3",
   "language": "python",
   "name": "python3"
  },
  "language_info": {
   "codemirror_mode": {
    "name": "ipython",
    "version": 3
   },
   "file_extension": ".py",
   "mimetype": "text/x-python",
   "name": "python",
   "nbconvert_exporter": "python",
   "pygments_lexer": "ipython3",
   "version": "3.9.5"
  }
 },
 "nbformat": 4,
 "nbformat_minor": 5
}
