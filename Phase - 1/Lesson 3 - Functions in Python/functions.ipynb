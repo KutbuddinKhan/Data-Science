{
 "cells": [
  {
   "cell_type": "markdown",
   "id": "e81eb7f6",
   "metadata": {},
   "source": [
    "1: Simple Function without Parameter\n",
    "\n",
    "Explanation:\n",
    "def greet(): → defines a function called greet.\n",
    "\n",
    "Inside, it prints a message.\n",
    "\n",
    "greet() → calls the function to actually run the code."
   ]
  },
  {
   "cell_type": "code",
   "execution_count": 1,
   "id": "2173c6f9",
   "metadata": {},
   "outputs": [
    {
     "name": "stdout",
     "output_type": "stream",
     "text": [
      "Hello, welcome to Data Science!\n"
     ]
    }
   ],
   "source": [
    "def greet():\n",
    "    print(\"Hello, welcome to Data Science!\")\n",
    "\n",
    "greet()"
   ]
  },
  {
   "cell_type": "markdown",
   "id": "24492a99",
   "metadata": {},
   "source": [
    "2: Function with Parameter\n",
    "📖 Explanation:\n",
    "name is a parameter.\n",
    "\n",
    "We pass \"Ahmed\" as argument during the function call.\n",
    "\n",
    "It prints: Hello Ahmed, welcome to Data Science!"
   ]
  },
  {
   "cell_type": "code",
   "execution_count": 2,
   "id": "f806d391",
   "metadata": {},
   "outputs": [
    {
     "name": "stdout",
     "output_type": "stream",
     "text": [
      "Hello, Alice! welcome to Data Science!\n"
     ]
    }
   ],
   "source": [
    "def greet(name):\n",
    "    print(f\"Hello, {name}! welcome to Data Science!\")\n",
    "\n",
    "greet(\"Alice\")"
   ]
  },
  {
   "cell_type": "markdown",
   "id": "ac57ffc3",
   "metadata": {},
   "source": [
    "3: Function with Return Value\n",
    "📖 Explanation:\n",
    "return keyword sends back the result to wherever function was called.\n",
    "\n",
    "result stores the value 8.\n",
    "\n",
    "Finally prints 8."
   ]
  },
  {
   "cell_type": "code",
   "execution_count": 3,
   "id": "bdd8007d",
   "metadata": {},
   "outputs": [
    {
     "name": "stdout",
     "output_type": "stream",
     "text": [
      "The sum is: 8\n"
     ]
    }
   ],
   "source": [
    "def add(a, b):\n",
    "    return a + b\n",
    "\n",
    "result = add(5, 3)\n",
    "print(f\"The sum is: {result}\")"
   ]
  },
  {
   "cell_type": "markdown",
   "id": "c2bbc34a",
   "metadata": {},
   "source": [
    "📜 3. Function Scope (Local vs Global Variables)\n",
    "\n",
    "Local Variable → Defined inside function (only available inside).\n",
    "\n",
    "Global Variable → Defined outside function (available everywhere)."
   ]
  },
  {
   "cell_type": "code",
   "execution_count": 4,
   "id": "1eb2c691",
   "metadata": {},
   "outputs": [
    {
     "name": "stdout",
     "output_type": "stream",
     "text": [
      "Inside function, x = 10\n",
      "Outside function, x = 5\n"
     ]
    }
   ],
   "source": [
    "x = 5 # Global variable\n",
    "\n",
    "def my_function():\n",
    "    x = 10 # Local variable\n",
    "    print(\"Inside function, x =\", x)\n",
    "\n",
    "my_function()\n",
    "print(\"Outside function, x =\", x)"
   ]
  },
  {
   "cell_type": "code",
   "execution_count": null,
   "id": "93d49e5f",
   "metadata": {},
   "outputs": [],
   "source": []
  }
 ],
 "metadata": {
  "kernelspec": {
   "display_name": "Python 3",
   "language": "python",
   "name": "python3"
  },
  "language_info": {
   "codemirror_mode": {
    "name": "ipython",
    "version": 3
   },
   "file_extension": ".py",
   "mimetype": "text/x-python",
   "name": "python",
   "nbconvert_exporter": "python",
   "pygments_lexer": "ipython3",
   "version": "3.9.5"
  }
 },
 "nbformat": 4,
 "nbformat_minor": 5
}
