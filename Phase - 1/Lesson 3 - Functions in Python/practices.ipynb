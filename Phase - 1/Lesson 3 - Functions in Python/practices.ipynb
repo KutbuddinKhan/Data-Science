{
 "cells": [
  {
   "cell_type": "markdown",
   "id": "9d9a9dce",
   "metadata": {},
   "source": [
    "1. Create a function that multiplies two numbers.\n",
    "\n",
    "Explanation:\n",
    "\n",
    "Takes two numbers a and b\n",
    "\n",
    "Multiplies them a * b\n",
    "\n",
    "return sends back the result (20)"
   ]
  },
  {
   "cell_type": "code",
   "execution_count": 13,
   "id": "a6fc1414",
   "metadata": {},
   "outputs": [
    {
     "data": {
      "text/plain": [
       "6"
      ]
     },
     "execution_count": 13,
     "metadata": {},
     "output_type": "execute_result"
    }
   ],
   "source": [
    "def multiple(x, y):\n",
    "    \"\"\"Multiply two numbers.\"\"\"\n",
    "    return x * y\n",
    "\n",
    "multiple(2, 3)"
   ]
  },
  {
   "cell_type": "markdown",
   "id": "17e91180",
   "metadata": {},
   "source": [
    "2. Create a function that returns whether a number is even or odd.\n",
    "🔎 Explanation:\n",
    "\n",
    "% modulo checks remainder.\n",
    "\n",
    "If divisible by 2, then it's Even, else Odd."
   ]
  },
  {
   "cell_type": "code",
   "execution_count": 14,
   "id": "5a7b3fc4",
   "metadata": {},
   "outputs": [
    {
     "data": {
      "text/plain": [
       "'Odd'"
      ]
     },
     "execution_count": 14,
     "metadata": {},
     "output_type": "execute_result"
    }
   ],
   "source": [
    "def even_or_odd(x):\n",
    "    \"\"\"Check if a number is even or odd.\"\"\"\n",
    "    if x % 2 == 0:\n",
    "        return \"Even\"\n",
    "    else: \n",
    "        return \"Odd\"\n",
    "\n",
    "even_or_odd(5)"
   ]
  },
  {
   "cell_type": "markdown",
   "id": "35952098",
   "metadata": {},
   "source": [
    "3. Create a function that takes a list of numbers and returns their sum.\n",
    "\n",
    "🔎 Explanation:\n",
    "\n",
    "Starts total as 0.\n",
    "\n",
    "Loops through every number.\n",
    "\n",
    "Adds to total.\n",
    "\n",
    "Returns the final sum (10)."
   ]
  },
  {
   "cell_type": "code",
   "execution_count": 15,
   "id": "9b414c4d",
   "metadata": {},
   "outputs": [
    {
     "data": {
      "text/plain": [
       "15"
      ]
     },
     "execution_count": 15,
     "metadata": {},
     "output_type": "execute_result"
    }
   ],
   "source": [
    "def list_of_numbers_sum(numbers):\n",
    "    \"\"\"Calculate the sum of a list of numbers.\"\"\"\n",
    "    total = 0\n",
    "\n",
    "    for number in numbers:\n",
    "        total += number\n",
    "    return total\n",
    "\n",
    "list_of_numbers_sum([1, 2, 3, 4, 5])"
   ]
  },
  {
   "cell_type": "markdown",
   "id": "4cfc56be",
   "metadata": {},
   "source": [
    "4. Create a function with default parameters (example: greet(name=\"Guest\")).\n",
    "\n",
    "🔎 Explanation:\n",
    "\n",
    "If no name is given, Guest will be used.\n",
    "\n",
    "Flexible function."
   ]
  },
  {
   "cell_type": "code",
   "execution_count": 16,
   "id": "1d4b7d8f",
   "metadata": {},
   "outputs": [
    {
     "data": {
      "text/plain": [
       "'Hello, Guest!'"
      ]
     },
     "execution_count": 16,
     "metadata": {},
     "output_type": "execute_result"
    }
   ],
   "source": [
    "def default_parameter(name=\"Guest\"):\n",
    "    \"\"\"Greet a person with a default name.\"\"\"\n",
    "    return f\"Hello, {name}!\"\n",
    "\n",
    "default_parameter()\n",
    "# or\n",
    "# default_parameter(\"Alice\")"
   ]
  },
  {
   "cell_type": "markdown",
   "id": "24e694aa",
   "metadata": {},
   "source": [
    "5. Create a function that calculates factorial of a number (hint: use for loop).\n",
    "\n",
    "🔎 Explanation:\n",
    "\n",
    "1 * 2 * 3 * 4 * 5 = 120\n",
    "\n",
    "Loop multiplies all numbers from 1 to n."
   ]
  },
  {
   "cell_type": "code",
   "execution_count": 17,
   "id": "a05cacb8",
   "metadata": {},
   "outputs": [
    {
     "name": "stdout",
     "output_type": "stream",
     "text": [
      "120\n"
     ]
    }
   ],
   "source": [
    "def factorial(x):\n",
    "    \"\"\"Calculate the factorial of a number.\"\"\"\n",
    "    if x == 0 or x == 1:\n",
    "        return 1\n",
    "    else:\n",
    "        return x * factorial(x - 1)\n",
    "\n",
    "factorial(7)\n",
    "\n",
    "# or \n",
    "def fact(n):\n",
    "    \"\"\"Calculate the factorial of a number.\"\"\"\n",
    "    result = 1\n",
    "    for i in range(1, n + 1):\n",
    "        result *= i \n",
    "    \n",
    "    return result \n",
    "\n",
    "print(fact(5)) # 120"
   ]
  },
  {
   "cell_type": "code",
   "execution_count": null,
   "id": "c6438353",
   "metadata": {},
   "outputs": [],
   "source": []
  }
 ],
 "metadata": {
  "kernelspec": {
   "display_name": "Python 3",
   "language": "python",
   "name": "python3"
  },
  "language_info": {
   "codemirror_mode": {
    "name": "ipython",
    "version": 3
   },
   "file_extension": ".py",
   "mimetype": "text/x-python",
   "name": "python",
   "nbconvert_exporter": "python",
   "pygments_lexer": "ipython3",
   "version": "3.9.5"
  }
 },
 "nbformat": 4,
 "nbformat_minor": 5
}
