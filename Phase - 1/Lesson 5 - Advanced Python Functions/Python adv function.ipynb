{
 "cells": [
  {
   "cell_type": "markdown",
   "id": "84949275",
   "metadata": {},
   "source": [
    "## Lesson 5: Advanced Python Functions\n",
    "(Lambda, Map, Filter, Reduce, and More)"
   ]
  },
  {
   "cell_type": "markdown",
   "id": "e2a7bf6c",
   "metadata": {},
   "source": [
    "🧱 1. Regular Functions (Clean Recap)\n",
    "\n",
    "✅ Why it matters:\n",
    "In real DS pipelines, you will wrap logic like data cleaning, encoding, and feature generation in functions."
   ]
  },
  {
   "cell_type": "code",
   "execution_count": 13,
   "id": "7c639197",
   "metadata": {},
   "outputs": [
    {
     "name": "stdout",
     "output_type": "stream",
     "text": [
      "Hello, World!\n"
     ]
    }
   ],
   "source": [
    "def greet(name):\n",
    "    \"\"\"Function to greet a person with their name.\"\"\"\n",
    "    return f\"Hello, {name}!\"\n",
    "\n",
    "print(greet(\"World\"))"
   ]
  },
  {
   "cell_type": "markdown",
   "id": "0737f644",
   "metadata": {},
   "source": [
    "💡 Clean Function Practice:\n",
    "\n",
    "✅ Use docstrings\n",
    "\n",
    "✅ Use meaningful names\n",
    "\n",
    "✅ Always return values, not just print"
   ]
  },
  {
   "cell_type": "code",
   "execution_count": 14,
   "id": "3126abab",
   "metadata": {},
   "outputs": [],
   "source": [
    "def calculate_area(length, width):\n",
    "    \"\"\" Function to calculate the area of a rectangle \"\"\"\n",
    "    return length * width"
   ]
  },
  {
   "cell_type": "markdown",
   "id": "2fdcc07d",
   "metadata": {},
   "source": [
    "### 🧳 2. *args and **kwargs\n",
    "\n",
    "    🔹 *args = multiple positional arguments\n",
    "\n",
    "✅ Real Use: Flexible function input when you don’t know how many values.\n"
   ]
  },
  {
   "cell_type": "code",
   "execution_count": 15,
   "id": "1ef9e4fd",
   "metadata": {},
   "outputs": [
    {
     "name": "stdout",
     "output_type": "stream",
     "text": [
      "15\n"
     ]
    }
   ],
   "source": [
    "def add_all(*args):\n",
    "    \"\"\" Function to add all numbers passed as arguments \"\"\"\n",
    "    return sum(args)\n",
    "\n",
    "print(add_all(1, 2, 3, 4, 5 ))  # Output: 15"
   ]
  },
  {
   "cell_type": "markdown",
   "id": "4d67449f",
   "metadata": {},
   "source": [
    "    🔹 **kwargs = multiple keyword arguments\n",
    "\n",
    "✅ Real Use: Handling dynamic parameters in ML model configuration (e.g., RandomForest(**params))"
   ]
  },
  {
   "cell_type": "code",
   "execution_count": 16,
   "id": "f302d6f6",
   "metadata": {},
   "outputs": [
    {
     "name": "stdout",
     "output_type": "stream",
     "text": [
      "{'name': 'John', 'age': 20, 'major': 'Computer Science'}\n"
     ]
    }
   ],
   "source": [
    "def student_info(**kwargs):\n",
    "    \"\"\" Function to print student information \"\"\"\n",
    "    print(kwargs)\n",
    "\n",
    "student_info(name=\"John\", age=20, major=\"Computer Science\")  # Output: {'name': 'John', 'age': 20, 'major': 'Computer Science'}"
   ]
  },
  {
   "cell_type": "markdown",
   "id": "c1b51fc9",
   "metadata": {},
   "source": [
    "⚡ 3. Lambda Functions — (Anonymous Functions)\n",
    "\n",
    "- Syntax\n",
    "\n",
    "` lambda arguments: expression `\n",
    "\n",
    "✅ No need to define full function for one-liners\n",
    "\n",
    "✅ Used inside map, filter, sort and pandas\n",
    "\n",
    "- Examples:\n"
   ]
  },
  {
   "cell_type": "code",
   "execution_count": 17,
   "id": "91b3b61b",
   "metadata": {},
   "outputs": [
    {
     "name": "stdout",
     "output_type": "stream",
     "text": [
      "25\n"
     ]
    }
   ],
   "source": [
    "square = lambda x: x**2\n",
    "print(square(5))  # Output: 25"
   ]
  },
  {
   "cell_type": "markdown",
   "id": "ea56c5a3",
   "metadata": {},
   "source": [
    "🔥 Real-World Use:\n",
    "\n",
    "In Pandas:\n",
    "\n",
    "`df['PriceWithTax'] = df['Price'].apply(lambda x: x * 1.05)`"
   ]
  },
  {
   "cell_type": "markdown",
   "id": "949fff5d",
   "metadata": {},
   "source": [
    "⚙️ 4. map() Function\n",
    "\n",
    "🔥 Real DS Use:\n",
    "\n",
    "- Converting values to strings\n",
    "\n",
    "- Scaling numbers\n",
    "\n",
    "- Applying transformations column-wise in Pandas\n",
    "\n",
    "\n",
    "\n",
    "    🔹 Applies a function to every item in iterable"
   ]
  },
  {
   "cell_type": "code",
   "execution_count": 18,
   "id": "9b7c4f34",
   "metadata": {},
   "outputs": [
    {
     "name": "stdout",
     "output_type": "stream",
     "text": [
      "[1, 4, 9, 16, 25]\n"
     ]
    }
   ],
   "source": [
    "numbers = [1, 2, 3, 4, 5]\n",
    "squared_numbers = list(map(lambda x: x**2, numbers))\n",
    "print(squared_numbers)  # Output: [1, 4, 9, 16, 25]"
   ]
  },
  {
   "cell_type": "markdown",
   "id": "6add757c",
   "metadata": {},
   "source": [
    "🔎 5. filter() Function\n",
    "\n",
    "🔥 Real DS Use:\n",
    "# Keep only salaries above 10,000\n",
    "\n",
    "    salaries = [8000, 12000, 7000, 15000]\n",
    "\n",
    "    high_salary = list(filter(lambda x: x > 10000, salaries))\n",
    "\n",
    "\n",
    "    🔹 Filters iterable based on True/False condition\n",
    "\n"
   ]
  },
  {
   "cell_type": "code",
   "execution_count": 19,
   "id": "ddbd6ef3",
   "metadata": {},
   "outputs": [
    {
     "name": "stdout",
     "output_type": "stream",
     "text": [
      "[2, 4, 6]\n"
     ]
    }
   ],
   "source": [
    "numbers = [1, 2, 3, 4, 5, 6]\n",
    "even_numbers = list(filter(lambda x: x % 2 == 0, numbers))\n",
    "print(even_numbers)  # Output: [2, 4, 6]"
   ]
  },
  {
   "cell_type": "markdown",
   "id": "6aa14843",
   "metadata": {},
   "source": [
    "🔁 6. reduce() — Apply function across items, from left to right\n",
    "\n",
    "🔥 Real DS Use:\n",
    "\n",
    "- Total revenue calculation\n",
    "\n",
    "- Chaining transformations\n",
    "\n",
    "- Rolling calculations"
   ]
  },
  {
   "cell_type": "code",
   "execution_count": 20,
   "id": "ac81d2da",
   "metadata": {},
   "outputs": [
    {
     "name": "stdout",
     "output_type": "stream",
     "text": [
      "21\n"
     ]
    }
   ],
   "source": [
    "from functools import reduce \n",
    "\n",
    "total = reduce(lambda x, y: x + y, numbers)\n",
    "print(total)  # Output: 21"
   ]
  },
  {
   "cell_type": "markdown",
   "id": "6da6d015",
   "metadata": {},
   "source": [
    "## 📝 Mini Practice Task (Do it Yourself)\n",
    "\n",
    "🔧 Task:\n",
    "\n",
    "- You are given a list of product prices in USD. Write code to:\n",
    "\n",
    "- Convert all prices to AED (1 USD = 3.67 AED)\n",
    "\n",
    "- Remove any price below 10 AED\n",
    "\n",
    "- Add VAT (5%) to each remaining item\n"
   ]
  },
  {
   "cell_type": "markdown",
   "id": "258f979e",
   "metadata": {},
   "source": [
    "✍️ Solution: Convert all prices to AED (1 USD = 3.67 AED)"
   ]
  },
  {
   "cell_type": "code",
   "execution_count": 22,
   "id": "8568ecbc",
   "metadata": {},
   "outputs": [
    {
     "name": "stdout",
     "output_type": "stream",
     "text": [
      "[19.27, 26.97, 46.24, 77.07]\n"
     ]
    }
   ],
   "source": [
    "from functools import reduce \n",
    "\n",
    "usd_price = [2, 5, 7, 12, 20]\n",
    "\n",
    "# step 1: convert to AED \n",
    "aed_price = list(map(lambda x: x * 3.67, usd_price))\n",
    "\n",
    "# step 2: remove < 10 AED \n",
    "filtered_price = list(filter(lambda x: x >= 10, aed_price))\n",
    "\n",
    "# step 3: Add VAT \n",
    "final_prices = list(map(lambda x: round(x * 1.05, 2), filtered_price))\n",
    "\n",
    "print(final_prices)  # Output: [73.4, 109.35, 146.3, 183.25]"
   ]
  },
  {
   "cell_type": "code",
   "execution_count": null,
   "id": "35dc37ec",
   "metadata": {},
   "outputs": [],
   "source": []
  }
 ],
 "metadata": {
  "kernelspec": {
   "display_name": "Python 3",
   "language": "python",
   "name": "python3"
  },
  "language_info": {
   "codemirror_mode": {
    "name": "ipython",
    "version": 3
   },
   "file_extension": ".py",
   "mimetype": "text/x-python",
   "name": "python",
   "nbconvert_exporter": "python",
   "pygments_lexer": "ipython3",
   "version": "3.9.5"
  }
 },
 "nbformat": 4,
 "nbformat_minor": 5
}
