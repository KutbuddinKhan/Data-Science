{
 "cells": [
  {
   "cell_type": "markdown",
   "id": "f8fbc90b",
   "metadata": {},
   "source": [
    "## 🧠 INTERVIEW QUESTIONS (20+)"
   ]
  },
  {
   "cell_type": "markdown",
   "id": "cf4929f2",
   "metadata": {},
   "source": [
    "Q1. What is the difference between map() and filter()?\n",
    "\n",
    "✅ Answer:\n",
    "\n",
    "- map() transforms each item\n",
    "\n",
    "- filter() selects only items that match condition"
   ]
  },
  {
   "cell_type": "markdown",
   "id": "6cea8053",
   "metadata": {},
   "source": [
    "Q2. What’s the use of lambda in pandas?\n",
    "\n",
    "✅ Answer:\n",
    "\n",
    "Used with .apply() to apply logic on a column:\n",
    "\n",
    "`df['col'].apply(lambda x: x + 1)`"
   ]
  },
  {
   "cell_type": "markdown",
   "id": "f9127cdb",
   "metadata": {},
   "source": [
    "Q3. When should you use *args?\n",
    "\n",
    "✅ Answer:\n",
    "\n",
    "When your function needs any number of positional args — common in data loaders or metrics."
   ]
  },
  {
   "cell_type": "markdown",
   "id": "cb885fd1",
   "metadata": {},
   "source": [
    "Q4. What’s the advantage of **kwargs?\n",
    "\n",
    "✅ Answer:\n",
    "\n",
    "Lets you build flexible functions that can take varying keyword parameters. Used a lot in ML models."
   ]
  },
  {
   "cell_type": "markdown",
   "id": "e1129d65",
   "metadata": {},
   "source": [
    "    Q5. Difference between regular function and lambda?\n",
    "\n",
    "Feature\t |   Regular\t|        Lambda\n",
    "\n",
    "Name\t|    Has a name\t |   Anonymous\n",
    "\n",
    "Use case    |\tMulti-line\t |   One-liner\n",
    "\n",
    "Reuse\t|    Yes\t|      Often inside map/apply"
   ]
  },
  {
   "cell_type": "markdown",
   "id": "a2f0abd9",
   "metadata": {},
   "source": [
    "Q6. Real DS use of reduce()?\n",
    "\n",
    "✅ Answer:\n",
    "\n",
    "Used to reduce a list of values into a single value, like total revenue, chain of data steps, or product of scores."
   ]
  },
  {
   "cell_type": "markdown",
   "id": "a0093fe3",
   "metadata": {},
   "source": [
    "Q7. Can you use lambda inside a filter()?\n",
    "\n",
    "✅ Answer: Yes."
   ]
  },
  {
   "cell_type": "markdown",
   "id": "ed15c275",
   "metadata": {},
   "source": [
    "Q8. What does this return?"
   ]
  },
  {
   "cell_type": "code",
   "execution_count": 2,
   "id": "bb089f2f",
   "metadata": {},
   "outputs": [
    {
     "data": {
      "text/plain": [
       "['DATA', 'SCIENCE', 'PYTHON']"
      ]
     },
     "execution_count": 2,
     "metadata": {},
     "output_type": "execute_result"
    }
   ],
   "source": [
    "list(map(lambda x: x.upper(), ['data', 'science', 'python'])) \n",
    "# Output: ['DATA', 'SCIENCE', 'PYTHON']"
   ]
  },
  {
   "cell_type": "markdown",
   "id": "eeee7212",
   "metadata": {},
   "source": [
    "Q9. What’s wrong with this code?"
   ]
  },
  {
   "cell_type": "code",
   "execution_count": 3,
   "id": "63d1dbfa",
   "metadata": {},
   "outputs": [
    {
     "ename": "NameError",
     "evalue": "name 'x' is not defined",
     "output_type": "error",
     "traceback": [
      "\u001b[1;31m---------------------------------------------------------------------------\u001b[0m",
      "\u001b[1;31mNameError\u001b[0m                                 Traceback (most recent call last)",
      "\u001b[1;32m<ipython-input-3-cd60a27b3077>\u001b[0m in \u001b[0;36m<module>\u001b[1;34m\u001b[0m\n\u001b[0;32m      1\u001b[0m \u001b[1;32mlambda\u001b[0m \u001b[0mx\u001b[0m\u001b[1;33m:\u001b[0m \u001b[0mx\u001b[0m \u001b[1;33m+\u001b[0m \u001b[1;36m1\u001b[0m\u001b[1;33m\u001b[0m\u001b[1;33m\u001b[0m\u001b[0m\n\u001b[1;32m----> 2\u001b[1;33m \u001b[0mprint\u001b[0m\u001b[1;33m(\u001b[0m\u001b[0mx\u001b[0m\u001b[1;33m(\u001b[0m\u001b[1;36m5\u001b[0m\u001b[1;33m)\u001b[0m\u001b[1;33m)\u001b[0m\u001b[1;33m\u001b[0m\u001b[1;33m\u001b[0m\u001b[0m\n\u001b[0m",
      "\u001b[1;31mNameError\u001b[0m: name 'x' is not defined"
     ]
    }
   ],
   "source": [
    "lambda x: x + 1\n",
    "print(x(5))"
   ]
  },
  {
   "cell_type": "markdown",
   "id": "06de9625",
   "metadata": {},
   "source": [
    "✅ Answer:\n",
    "\n",
    "x is not defined. Lambda was created but not assigned.\n",
    "\n",
    "Correct way:"
   ]
  },
  {
   "cell_type": "code",
   "execution_count": 4,
   "id": "88319f1c",
   "metadata": {},
   "outputs": [
    {
     "name": "stdout",
     "output_type": "stream",
     "text": [
      "6\n"
     ]
    }
   ],
   "source": [
    "add = lambda x: x + 1\n",
    "print(add(5))  # Output: 6"
   ]
  },
  {
   "cell_type": "markdown",
   "id": "7a4579ed",
   "metadata": {},
   "source": [
    "Q10. Write a lambda to return the last digit of any number.\n",
    "\n",
    "✅ Answer:"
   ]
  },
  {
   "cell_type": "code",
   "execution_count": 5,
   "id": "ee541df1",
   "metadata": {},
   "outputs": [
    {
     "name": "stdout",
     "output_type": "stream",
     "text": [
      "3\n"
     ]
    }
   ],
   "source": [
    "last_digit = lambda x: x % 10\n",
    "print(last_digit(123))  # Output: 3"
   ]
  },
  {
   "cell_type": "code",
   "execution_count": null,
   "id": "aa20ed53",
   "metadata": {},
   "outputs": [],
   "source": []
  }
 ],
 "metadata": {
  "kernelspec": {
   "display_name": "Python 3",
   "language": "python",
   "name": "python3"
  },
  "language_info": {
   "codemirror_mode": {
    "name": "ipython",
    "version": 3
   },
   "file_extension": ".py",
   "mimetype": "text/x-python",
   "name": "python",
   "nbconvert_exporter": "python",
   "pygments_lexer": "ipython3",
   "version": "3.9.5"
  }
 },
 "nbformat": 4,
 "nbformat_minor": 5
}
