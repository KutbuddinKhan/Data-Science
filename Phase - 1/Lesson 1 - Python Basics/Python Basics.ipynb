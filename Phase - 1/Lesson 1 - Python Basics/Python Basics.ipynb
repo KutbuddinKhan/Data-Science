{
 "cells": [
  {
   "cell_type": "markdown",
   "id": "4d126305",
   "metadata": {},
   "source": [
    "📝 Write Your First Python Code (try in Jupyter):"
   ]
  },
  {
   "cell_type": "code",
   "execution_count": 8,
   "id": "371105bb",
   "metadata": {},
   "outputs": [
    {
     "name": "stdout",
     "output_type": "stream",
     "text": [
      "Hello, Future Data Scientist!\n"
     ]
    }
   ],
   "source": [
    "print(\"Hello, Future Data Scientist!\")"
   ]
  },
  {
   "cell_type": "markdown",
   "id": "a28fd9ae",
   "metadata": {},
   "source": [
    "2. What is a Variable in Python?\n",
    "Answer:\n",
    "A variable is a container that holds data in memory."
   ]
  },
  {
   "cell_type": "code",
   "execution_count": 9,
   "id": "5cbdaeb8",
   "metadata": {},
   "outputs": [],
   "source": [
    "x = 10 \n",
    "y = \"Data Science\""
   ]
  },
  {
   "cell_type": "markdown",
   "id": "adaeb2f5",
   "metadata": {},
   "source": [
    "3. How do you comment in Python?\n",
    "Answer:\n",
    "Use # for single-line comment:"
   ]
  },
  {
   "cell_type": "code",
   "execution_count": 10,
   "id": "fcf48eed",
   "metadata": {},
   "outputs": [
    {
     "name": "stdout",
     "output_type": "stream",
     "text": [
      "10\n",
      "Data Science\n"
     ]
    }
   ],
   "source": [
    "# This is a comment\n",
    "print(x) # This will print the value of x\n",
    "print(y) # This will print the value of y"
   ]
  },
  {
   "cell_type": "markdown",
   "id": "b9fd6af6",
   "metadata": {},
   "source": [
    "4. What are the basic data types in Python?\n",
    "Answer:\n",
    "\n",
    "int – Integer numbers → 10\n",
    "\n",
    "float – Decimal numbers → 10.5\n",
    "\n",
    "str – Text → \"Data\"\n",
    "\n",
    "bool – True/False → True"
   ]
  },
  {
   "cell_type": "markdown",
   "id": "3ec5fdab",
   "metadata": {},
   "source": [
    "5. What is a List in Python?\n",
    "Answer:\n",
    "A list is an ordered, mutable (changeable) collection of items."
   ]
  },
  {
   "cell_type": "code",
   "execution_count": 11,
   "id": "8d7bb18e",
   "metadata": {},
   "outputs": [
    {
     "name": "stdout",
     "output_type": "stream",
     "text": [
      "1\n"
     ]
    }
   ],
   "source": [
    "my_list = [1, 2, 3, 4, 5]\n",
    "print(my_list[0]) # Output: 1"
   ]
  },
  {
   "cell_type": "markdown",
   "id": "0f82e310",
   "metadata": {},
   "source": [
    "6. What is the difference between List and Tuple?\n",
    "Answer:\n",
    "\n",
    "\n",
    "List\t                Tuple\n",
    "Mutable (can change)\tImmutable (cannot change)\n",
    "Use [ ]\t                Use ( )"
   ]
  },
  {
   "cell_type": "code",
   "execution_count": 12,
   "id": "d6288599",
   "metadata": {},
   "outputs": [],
   "source": [
    "my_list = [1, 2, 3]\n",
    "my_tuple = (1, 2, 3)"
   ]
  },
  {
   "cell_type": "markdown",
   "id": "0370f2cf",
   "metadata": {},
   "source": [
    "7. What is indentation in Python?\n",
    "Answer:\n",
    "Indentation (spaces/tabs) defines code blocks."
   ]
  },
  {
   "cell_type": "code",
   "execution_count": 13,
   "id": "49d98248",
   "metadata": {},
   "outputs": [
    {
     "name": "stdout",
     "output_type": "stream",
     "text": [
      "This is true\n"
     ]
    }
   ],
   "source": [
    "if True: \n",
    "    print(\"This is true\")"
   ]
  },
  {
   "cell_type": "markdown",
   "id": "564e1867",
   "metadata": {},
   "source": [
    "8. How to install a Python library?\n",
    "Answer:\n",
    "Use pip (Python package installer).\n",
    "\n",
    "** pip install pandas"
   ]
  },
  {
   "cell_type": "markdown",
   "id": "410a8f97",
   "metadata": {},
   "source": [
    "9. What is Jupyter Notebook?\n",
    "Answer:\n",
    "It is an interactive tool to write and run Python code, visualize data, and make notes—all in one place (great for Data Science)."
   ]
  },
  {
   "cell_type": "markdown",
   "id": "77431625",
   "metadata": {},
   "source": [
    "10. How to print multiple items in Python?"
   ]
  },
  {
   "cell_type": "code",
   "execution_count": 14,
   "id": "81f75703",
   "metadata": {},
   "outputs": [
    {
     "name": "stdout",
     "output_type": "stream",
     "text": [
      "Hello world 123\n"
     ]
    }
   ],
   "source": [
    "print(\"Hello\", \"world\", 123)"
   ]
  },
  {
   "cell_type": "code",
   "execution_count": null,
   "id": "b02f7598",
   "metadata": {},
   "outputs": [],
   "source": []
  }
 ],
 "metadata": {
  "kernelspec": {
   "display_name": "Python 3",
   "language": "python",
   "name": "python3"
  },
  "language_info": {
   "codemirror_mode": {
    "name": "ipython",
    "version": 3
   },
   "file_extension": ".py",
   "mimetype": "text/x-python",
   "name": "python",
   "nbconvert_exporter": "python",
   "pygments_lexer": "ipython3",
   "version": "3.9.5"
  }
 },
 "nbformat": 4,
 "nbformat_minor": 5
}
