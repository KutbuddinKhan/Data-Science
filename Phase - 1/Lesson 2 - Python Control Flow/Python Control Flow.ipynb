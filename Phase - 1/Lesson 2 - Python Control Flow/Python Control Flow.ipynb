{
 "cells": [
  {
   "cell_type": "markdown",
   "id": "d1df09e7",
   "metadata": {},
   "source": [
    "## 📚 Phase 1 — Lesson 2: Python Control Flow (if-else, loops) "
   ]
  },
  {
   "cell_type": "markdown",
   "id": "10ceb45d",
   "metadata": {},
   "source": [
    "🧠 1. Python Conditions (if, elif, else)\n",
    "\n",
    "Conditions help you control how your program behaves depending on different situations."
   ]
  },
  {
   "cell_type": "code",
   "execution_count": 1,
   "id": "30368128",
   "metadata": {},
   "outputs": [
    {
     "name": "stdout",
     "output_type": "stream",
     "text": [
      "You are an adult.\n"
     ]
    }
   ],
   "source": [
    "age = 20\n",
    "if age >= 18:\n",
    "    print(\"You are an adult.\")\n",
    "else:\n",
    "    print(\"You are a minor.\")"
   ]
  },
  {
   "cell_type": "markdown",
   "id": "e51a9029",
   "metadata": {},
   "source": [
    "🔁 2. Python Loops\n",
    "\n",
    "➡️ For Loop\n",
    "When you know how many times you want to repeat something.\n",
    "\n",
    "range(5) gives 0, 1, 2, 3, 4"
   ]
  },
  {
   "cell_type": "code",
   "execution_count": 2,
   "id": "912b0255",
   "metadata": {},
   "outputs": [
    {
     "name": "stdout",
     "output_type": "stream",
     "text": [
      "0\n",
      "1\n",
      "2\n",
      "3\n",
      "4\n"
     ]
    }
   ],
   "source": [
    "for i in range(5):\n",
    "    print(i)"
   ]
  },
  {
   "cell_type": "markdown",
   "id": "ee8d6bf3",
   "metadata": {},
   "source": [
    "➡️ While Loop\n",
    "\n",
    "When you don't know how many times you need to repeat (run until a condition is false)."
   ]
  },
  {
   "cell_type": "code",
   "execution_count": 3,
   "id": "75b5bbda",
   "metadata": {},
   "outputs": [
    {
     "name": "stdout",
     "output_type": "stream",
     "text": [
      "0\n",
      "1\n",
      "2\n",
      "3\n",
      "4\n"
     ]
    }
   ],
   "source": [
    "count = 0\n",
    "while count < 5: \n",
    "    print(count) \n",
    "    count += 1"
   ]
  },
  {
   "cell_type": "markdown",
   "id": "28fa4df8",
   "metadata": {},
   "source": [
    "🛑 3. Break, Continue, Pass\n",
    "\n",
    "Keyword\t    Meaning\n",
    "break\t    Exit the loop immediately\n",
    "continue\tSkip the rest of the code in current loop iteration\n",
    "pass\t    Do nothing (used as placeholder)"
   ]
  },
  {
   "cell_type": "code",
   "execution_count": 4,
   "id": "f446e5e7",
   "metadata": {},
   "outputs": [
    {
     "name": "stdout",
     "output_type": "stream",
     "text": [
      "0\n",
      "1\n",
      "2\n",
      "3\n",
      "4\n"
     ]
    }
   ],
   "source": [
    "# Break \n",
    "for i in range(10):\n",
    "    if i == 5:\n",
    "        break\n",
    "    print(i)"
   ]
  },
  {
   "cell_type": "code",
   "execution_count": 5,
   "id": "cce74d52",
   "metadata": {},
   "outputs": [
    {
     "name": "stdout",
     "output_type": "stream",
     "text": [
      "0\n",
      "1\n",
      "3\n",
      "4\n",
      "5\n",
      "6\n",
      "7\n",
      "8\n",
      "9\n"
     ]
    }
   ],
   "source": [
    "# Continue \n",
    "for i in range(10):\n",
    "    if i == 2:\n",
    "        continue \n",
    "    print(i)"
   ]
  },
  {
   "cell_type": "code",
   "execution_count": 6,
   "id": "bc3ba12a",
   "metadata": {},
   "outputs": [],
   "source": [
    "# pass \n",
    "for i in range(5):\n",
    "    pass # Do nothing"
   ]
  },
  {
   "cell_type": "markdown",
   "id": "dd87cc36",
   "metadata": {},
   "source": [
    "## 📚 Quick Important Concepts:\n",
    "Indentation is VERY IMPORTANT in if, for, while (Python reads indentation as block start/end)\n",
    "\n",
    "Colon : is required at end of if, for, while, etc.\n",
    "\n",
    "range(start, stop, step) → you can control loops easily"
   ]
  },
  {
   "cell_type": "markdown",
   "id": "c3a6625c",
   "metadata": {},
   "source": [
    "## 🎯 Today's Interview Questions:"
   ]
  },
  {
   "cell_type": "markdown",
   "id": "e6742a2d",
   "metadata": {},
   "source": [
    "1. What is an if-else statement in Python?\n",
    "Answer:\n",
    "It is a control structure that executes different code based on whether a condition is True or False."
   ]
  },
  {
   "cell_type": "code",
   "execution_count": 7,
   "id": "b4d47997",
   "metadata": {},
   "outputs": [
    {
     "name": "stdout",
     "output_type": "stream",
     "text": [
      "a is not greater than b\n"
     ]
    }
   ],
   "source": [
    "a = 10\n",
    "b = 20\n",
    "\n",
    "if a > b:\n",
    "    print(\"a is greater than b\")\n",
    "else: \n",
    "    print(\"a is not greater than b\")"
   ]
  },
  {
   "cell_type": "markdown",
   "id": "e48d204b",
   "metadata": {},
   "source": [
    "2. What is the syntax of a for loop?\n",
    "Answer:"
   ]
  },
  {
   "cell_type": "code",
   "execution_count": 8,
   "id": "51ef4cb9",
   "metadata": {},
   "outputs": [],
   "source": [
    "for i in range(5):\n",
    "    pass"
   ]
  },
  {
   "cell_type": "markdown",
   "id": "aa6d064c",
   "metadata": {},
   "source": [
    "3. What is a while loop used for?\n",
    "Answer:\n",
    "A while loop repeats code as long as a condition is True."
   ]
  },
  {
   "cell_type": "code",
   "execution_count": 9,
   "id": "5887c9a2",
   "metadata": {},
   "outputs": [
    {
     "name": "stdout",
     "output_type": "stream",
     "text": [
      "0\n",
      "1\n",
      "2\n",
      "3\n",
      "4\n"
     ]
    }
   ],
   "source": [
    "n = 0\n",
    "while n < 5:\n",
    "    print(n)\n",
    "    n += 1"
   ]
  },
  {
   "cell_type": "markdown",
   "id": "56a443f6",
   "metadata": {},
   "source": [
    "4. What's the difference between break and continue?\n",
    "Answer:\n",
    "\n",
    "Break\t                            Continue\n",
    "Exits the entire loop immediately\tSkips current iteration only"
   ]
  },
  {
   "cell_type": "markdown",
   "id": "e91356d8",
   "metadata": {},
   "source": [
    "5. What will this code print?"
   ]
  },
  {
   "cell_type": "code",
   "execution_count": 10,
   "id": "f0627057",
   "metadata": {},
   "outputs": [
    {
     "name": "stdout",
     "output_type": "stream",
     "text": [
      "0 0\n",
      "0 1\n",
      "1 0\n",
      "1 1\n",
      "2 0\n",
      "2 1\n"
     ]
    }
   ],
   "source": [
    "for i in range(3):\n",
    "    for j in range(2):\n",
    "        print(i, j)\n",
    "\n",
    "# (Nested Loops: loop inside loop)"
   ]
  },
  {
   "cell_type": "markdown",
   "id": "104c074a",
   "metadata": {},
   "source": [
    "6. What is the output of this?"
   ]
  },
  {
   "cell_type": "code",
   "execution_count": 11,
   "id": "c27944c4",
   "metadata": {},
   "outputs": [
    {
     "name": "stdout",
     "output_type": "stream",
     "text": [
      "1\n",
      "3\n",
      "5\n"
     ]
    }
   ],
   "source": [
    "for i in range(1, 6, 2):\n",
    "    print(i)\n",
    "\n",
    "# (range(start=1, stop=6, step=2) → skips every 2 numbers)"
   ]
  },
  {
   "cell_type": "markdown",
   "id": "319a0c89",
   "metadata": {},
   "source": [
    "7. When would you use a while loop instead of a for loop?\n",
    "Answer:\n",
    "When you don't know exactly how many times you need to loop beforehand.\n",
    "Example: waiting for user input."
   ]
  },
  {
   "cell_type": "markdown",
   "id": "2a74166f",
   "metadata": {},
   "source": [
    "8. What is an infinite loop? Give an example.\n",
    "Answer:\n",
    "A loop that never stops because the condition never becomes False."
   ]
  },
  {
   "cell_type": "code",
   "execution_count": 12,
   "id": "49067b26",
   "metadata": {},
   "outputs": [
    {
     "name": "stdout",
     "output_type": "stream",
     "text": [
      "Infinite loop\n"
     ]
    }
   ],
   "source": [
    "while True:\n",
    "    print(\"Infinite loop\") # This will run forever unless interrupted\n",
    "    break # To break out of the infinite loop"
   ]
  },
  {
   "cell_type": "markdown",
   "id": "cadde1cd",
   "metadata": {},
   "source": [
    "9. How can you loop through a list?"
   ]
  },
  {
   "cell_type": "code",
   "execution_count": 13,
   "id": "b65757b0",
   "metadata": {},
   "outputs": [
    {
     "name": "stdout",
     "output_type": "stream",
     "text": [
      "apple\n",
      "banana\n",
      "cherry\n"
     ]
    }
   ],
   "source": [
    "fruits = [\"apple\", \"banana\", \"cherry\"]\n",
    "for fruite in fruits:\n",
    "    print(fruite) "
   ]
  },
  {
   "cell_type": "markdown",
   "id": "65acd34b",
   "metadata": {},
   "source": [
    "10. What happens if you forget indentation in Python?\n",
    "Answer:\n",
    "Python will give an IndentationError.\n",
    "Because indentation defines code blocks in Python."
   ]
  },
  {
   "cell_type": "code",
   "execution_count": 14,
   "id": "95418270",
   "metadata": {},
   "outputs": [
    {
     "name": "stdout",
     "output_type": "stream",
     "text": [
      "This is true\n"
     ]
    }
   ],
   "source": [
    "# Example wrong code:\n",
    "\"\"\"\n",
    "if True:\n",
    "print(\"This is true\")\n",
    "\"\"\"\n",
    "\n",
    "# Corrected:\n",
    "if True:\n",
    "    print(\"This is true\")"
   ]
  },
  {
   "cell_type": "code",
   "execution_count": null,
   "id": "8e8d01f5",
   "metadata": {},
   "outputs": [],
   "source": []
  }
 ],
 "metadata": {
  "kernelspec": {
   "display_name": "Python 3",
   "language": "python",
   "name": "python3"
  },
  "language_info": {
   "codemirror_mode": {
    "name": "ipython",
    "version": 3
   },
   "file_extension": ".py",
   "mimetype": "text/x-python",
   "name": "python",
   "nbconvert_exporter": "python",
   "pygments_lexer": "ipython3",
   "version": "3.9.5"
  }
 },
 "nbformat": 4,
 "nbformat_minor": 5
}
