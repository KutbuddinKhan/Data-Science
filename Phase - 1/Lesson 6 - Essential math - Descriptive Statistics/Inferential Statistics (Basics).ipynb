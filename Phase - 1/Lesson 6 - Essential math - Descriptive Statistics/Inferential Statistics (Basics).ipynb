{
 "cells": [
  {
   "cell_type": "markdown",
   "id": "b5514cc6",
   "metadata": {},
   "source": [
    "✅ Problem:\n",
    "\n",
    "You sampled 30 students. Their test scores are stored in a Python list.\n",
    "\n",
    "Calculate:\n",
    "\n",
    "1. The mean score\n",
    "\n",
    "2. The 95% confidence interval\n",
    "\n",
    "3. Interpret the result"
   ]
  },
  {
   "cell_type": "markdown",
   "id": "1439ca02",
   "metadata": {},
   "source": [
    "🧾 Import libraries"
   ]
  },
  {
   "cell_type": "code",
   "execution_count": 2,
   "id": "73857283",
   "metadata": {},
   "outputs": [],
   "source": [
    "import numpy as np \n",
    "from scipy import stats"
   ]
  },
  {
   "cell_type": "markdown",
   "id": "076b8b92",
   "metadata": {},
   "source": [
    "🧾 Step 1: Sample Data (Scores of 30 students)"
   ]
  },
  {
   "cell_type": "code",
   "execution_count": 3,
   "id": "b3a0c694",
   "metadata": {},
   "outputs": [],
   "source": [
    "scores = [78, 85, 90, 72, 88, 95, 80, 76, 84, 91,\n",
    "          89, 77, 85, 82, 90, 73, 79, 88, 81, 92,\n",
    "          86, 75, 84, 87, 93, 78, 80, 83, 89, 85]"
   ]
  },
  {
   "cell_type": "markdown",
   "id": "94aceb6b",
   "metadata": {},
   "source": [
    "🧮 Step 2: Calculate the Mean\n",
    "\n",
    "📘 Explanation:\n",
    "\n",
    "- np.mean() calculates the average.\n",
    "\n",
    "- This tells us the central tendency — the typical score among students."
   ]
  },
  {
   "cell_type": "code",
   "execution_count": 4,
   "id": "6053d816",
   "metadata": {},
   "outputs": [
    {
     "name": "stdout",
     "output_type": "stream",
     "text": [
      "Mean score: 83.83\n"
     ]
    }
   ],
   "source": [
    "mean_score = np.mean(scores)\n",
    "print(f\"Mean score: {mean_score:.2f}\")"
   ]
  },
  {
   "cell_type": "code",
   "execution_count": 5,
   "id": "b064bc69",
   "metadata": {},
   "outputs": [
    {
     "name": "stdout",
     "output_type": "stream",
     "text": [
      "95% Confidence Interval: (81.54809927790643, 86.11856738876023)\n"
     ]
    }
   ],
   "source": [
    "# Standard Error of the mean (SEM)\n",
    "sem = stats.sem(scores)\n",
    "\n",
    "# Confidence Interval using t-distribution\n",
    "confidence = 0.95\n",
    "n = len(scores)\n",
    "\n",
    "# degree of freedom = n - 1\n",
    "interval = stats.t.interval(confidence, df = n - 1, loc=mean_score, scale=sem)\n",
    "print(f\"95% Confidence Interval: {interval}\")"
   ]
  },
  {
   "cell_type": "markdown",
   "id": "2961aac4",
   "metadata": {},
   "source": [
    "🧠 Interpretation:\n",
    "\n",
    "- We are 95% confident that the true average score of all students (not just this sample) lies between 81.2 and 85.2.\n",
    "\n",
    "This means: If we took 100 different samples, about 95 of them would have a mean inside this range."
   ]
  },
  {
   "cell_type": "markdown",
   "id": "71f6b20a",
   "metadata": {},
   "source": [
    "🔍 Why This Matters in Data Science:\n",
    "\n",
    "- A/B Testing: Which version of a product performs better?\n",
    "\n",
    "- Business Decisions: Estimate true average purchase, bounce rate, or satisfaction score.\n",
    "\n",
    "- ML Feature Understanding: Is the effect of a feature statistically significant?\n",
    "\n"
   ]
  },
  {
   "cell_type": "markdown",
   "id": "c6c3107b",
   "metadata": {},
   "source": []
  }
 ],
 "metadata": {
  "kernelspec": {
   "display_name": "Python 3",
   "language": "python",
   "name": "python3"
  },
  "language_info": {
   "codemirror_mode": {
    "name": "ipython",
    "version": 3
   },
   "file_extension": ".py",
   "mimetype": "text/x-python",
   "name": "python",
   "nbconvert_exporter": "python",
   "pygments_lexer": "ipython3",
   "version": "3.9.5"
  }
 },
 "nbformat": 4,
 "nbformat_minor": 5
}
