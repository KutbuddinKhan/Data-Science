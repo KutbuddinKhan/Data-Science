{
 "cells": [
  {
   "cell_type": "markdown",
   "id": "2ef29057",
   "metadata": {},
   "source": [
    "## 📊 Phase 1 (Continued): Essential Math — Descriptive Statistics"
   ]
  },
  {
   "cell_type": "markdown",
   "id": "1b50e64e",
   "metadata": {},
   "source": [
    "**📘 1. Mean (Average)**\n",
    "\n",
    "The mean is the total of all values divided by how many values."
   ]
  },
  {
   "cell_type": "markdown",
   "id": "e8dfe54a",
   "metadata": {},
   "source": [
    "📌 Formula:\n",
    "    \n",
    "    mean = (sum of all values) / (number of values)\n",
    "\n",
    "- 🧠 Use in Data Science: Used in aggregations, loss functions (like MSE), center trend, etc.\n",
    "\n",
    "🔢 Example:\n"
   ]
  },
  {
   "cell_type": "code",
   "execution_count": 18,
   "id": "85686379",
   "metadata": {},
   "outputs": [],
   "source": [
    "salaries = [4000, 4500, 6000, 7000, 8000, 9000]\n",
    "mean = sum(salaries) / len(salaries)\n",
    "#    = (4000 + 4500 + 6000 + 7000 + 8000 + 9000) / 6\n",
    "#    = 38500 / 6\n",
    "#    = 6416.666666666667\n",
    "#    = 6416.67 (rounded to 2 decimal places)"
   ]
  },
  {
   "cell_type": "markdown",
   "id": "4a175500",
   "metadata": {},
   "source": [
    "📌 Python:"
   ]
  },
  {
   "cell_type": "code",
   "execution_count": 19,
   "id": "4b36bcf6",
   "metadata": {},
   "outputs": [
    {
     "name": "stdout",
     "output_type": "stream",
     "text": [
      "Mean salary: 6416.67\n"
     ]
    }
   ],
   "source": [
    "print(f\"Mean salary: {mean:.2f}\")"
   ]
  },
  {
   "cell_type": "markdown",
   "id": "33dd4e73",
   "metadata": {},
   "source": [
    "** 📘 2. Median **\n",
    "\n",
    "    The median is the middle value in a sorted list.\n",
    "    If even number of values → average of middle two.\n",
    "\n",
    "🔢 Example:"
   ]
  },
  {
   "cell_type": "markdown",
   "id": "8ab1dd2d",
   "metadata": {},
   "source": [
    "Sorted: [4000, 4500, 4700, 4700, 5000, 10000]\n",
    "\n",
    "Middle values = 4700 and 4700\n",
    "\n",
    "Median = (4700 + 4700) / 2 = 4700\n",
    "\n",
    "\n",
    "**🧠 Why Median?**\n",
    "\n",
    "Better than mean when there are outliers (like 10000 here)."
   ]
  },
  {
   "cell_type": "code",
   "execution_count": 20,
   "id": "8cd76265",
   "metadata": {},
   "outputs": [
    {
     "name": "stdout",
     "output_type": "stream",
     "text": [
      "Median salary: 6500.00\n"
     ]
    }
   ],
   "source": [
    "import statistics\n",
    "median_salary = statistics.median(salaries)\n",
    "#    = 6500.0 (middle value of the sorted list [4000, 4500, 6000, 7000, 8000, 9000])\n",
    "#    = (6000 + 7000) / 2\n",
    "#    = 6500.0\n",
    "#    = 6500.0 (rounded to 2 decimal places)\n",
    "print(f\"Median salary: {median_salary:.2f}\")"
   ]
  },
  {
   "cell_type": "markdown",
   "id": "23df17db",
   "metadata": {},
   "source": [
    "**📘 3. Mode**\n",
    "\n",
    "    The mode is the most frequent value in a list.\n",
    "\n",
    "🧠 Use Case: Useful in categorical data (\"most used browser\", \"most common job title\", etc.)\n",
    "\n",
    "🔢 Example:"
   ]
  },
  {
   "cell_type": "code",
   "execution_count": 21,
   "id": "836fd2c6",
   "metadata": {},
   "outputs": [
    {
     "name": "stdout",
     "output_type": "stream",
     "text": [
      "Mode salary: 4700.00\n"
     ]
    }
   ],
   "source": [
    "salaries = [4000, 4500, 4700, 4700, 5000, 10000]\n",
    "# mode = 4700 (appears twice, more than any other number)\n",
    "\n",
    "mode_salary = statistics.mode(salaries)\n",
    "#    = 4700 (most common value in the list [4000, 4500, 4700, 4700, 5000, 10000])\n",
    "print(f\"Mode salary: {mode_salary:.2f}\")"
   ]
  },
  {
   "cell_type": "markdown",
   "id": "2def02af",
   "metadata": {},
   "source": [
    "**📘 4. Range, Variance & Standard Deviation**\n",
    "\n",
    "- 🔸 Range = Max - Min\n",
    "\n",
    "        range = 10000 - 4000 = 6000\n",
    "\n",
    "🔸 Variance: Measures how far values are from the mean (spread).\n"
   ]
  },
  {
   "cell_type": "code",
   "execution_count": 22,
   "id": "a7e68d5a",
   "metadata": {},
   "outputs": [
    {
     "data": {
      "text/plain": [
       "5005666.666666667"
      ]
     },
     "execution_count": 22,
     "metadata": {},
     "output_type": "execute_result"
    }
   ],
   "source": [
    "statistics.variance(salaries)"
   ]
  },
  {
   "cell_type": "markdown",
   "id": "81d01eec",
   "metadata": {},
   "source": [
    "🔸 Standard Deviation: Square root of variance, easier to interpret (same unit as data)\n",
    "\n",
    "🧠 Real Use: Tells us whether values are tightly packed or spread out.\n",
    "\n"
   ]
  },
  {
   "cell_type": "code",
   "execution_count": 23,
   "id": "ba986b32",
   "metadata": {},
   "outputs": [
    {
     "data": {
      "text/plain": [
       "2237.3347238772"
      ]
     },
     "execution_count": 23,
     "metadata": {},
     "output_type": "execute_result"
    }
   ],
   "source": [
    "statistics.stdev(salaries)"
   ]
  },
  {
   "cell_type": "markdown",
   "id": "3ac938e2",
   "metadata": {},
   "source": [
    "📘 5. Percentiles & Quartiles\n",
    "These help understand distribution.\n",
    "\n",
    "25th percentile (Q1): Lower quarter\n",
    "\n",
    "50th percentile (Q2): Median\n",
    "\n",
    "75th percentile (Q3): Upper quarter\n",
    "\n",
    "🧠 Use: Used to detect outliers, calculate IQR, draw box plots, etc.\n",
    "\n",
    "📌 Python (with NumPy):"
   ]
  },
  {
   "cell_type": "code",
   "execution_count": 24,
   "id": "7c4c686f",
   "metadata": {},
   "outputs": [
    {
     "data": {
      "text/plain": [
       "4925.0"
      ]
     },
     "execution_count": 24,
     "metadata": {},
     "output_type": "execute_result"
    }
   ],
   "source": [
    "import numpy as np\n",
    "\n",
    "np.percentile(salaries, 25) #Q1 \n",
    "np.percentile(salaries, 50) #Q2 (median)\n",
    "np.percentile(salaries, 75) #Q3"
   ]
  },
  {
   "cell_type": "markdown",
   "id": "89b45438",
   "metadata": {},
   "source": [
    "## Practice Time"
   ]
  },
  {
   "cell_type": "code",
   "execution_count": null,
   "id": "6c148f0e",
   "metadata": {},
   "outputs": [
    {
     "name": "stdout",
     "output_type": "stream",
     "text": [
      "Mean: 80.71\n",
      "Mode: 65.00\n",
      "Median: 80.00\n",
      "Range: 35.00\n",
      "Variance: 145.24\n",
      "Standard Deviation: 12.05\n",
      "Q1: 72.50\n",
      "Q2: 80.00\n",
      "Q3: 87.50\n"
     ]
    }
   ],
   "source": [
    "data = [65, 70, 75, 80, 85, 90, 100]\n",
    "\n",
    "mean = statistics.mean(data)\n",
    "mode = statistics.mode(data)\n",
    "median = statistics.median(data)\n",
    "range_val = max(data) - min(data)  # renamed from `range` to `range_val` to avoid conflict\n",
    "variance = statistics.variance(data)\n",
    "stdev = statistics.stdev(data)\n",
    "\n",
    "q1 = np.percentile(data, 25)\n",
    "q2 = np.percentile(data, 50)\n",
    "q3 = np.percentile(data, 75)\n",
    "\n",
    "print(f\"Mean: {mean:.2f}\")\n",
    "print(f\"Mode: {mode:.2f}\")\n",
    "print(f\"Median: {median:.2f}\")\n",
    "print(f\"Range: {range:.2f}\")\n",
    "print(f\"Variance: {variance:.2f}\")\n",
    "print(f\"Standard Deviation: {stdev:.2f}\")\n",
    "\n",
    "print(f\"Q1: {q1:.2f}\")\n",
    "print(f\"Q2: {q2:.2f}\")\n",
    "print(f\"Q3: {q3:.2f}\")"
   ]
  },
  {
   "cell_type": "code",
   "execution_count": null,
   "id": "55f981de",
   "metadata": {},
   "outputs": [],
   "source": []
  }
 ],
 "metadata": {
  "kernelspec": {
   "display_name": "Python 3",
   "language": "python",
   "name": "python3"
  },
  "language_info": {
   "codemirror_mode": {
    "name": "ipython",
    "version": 3
   },
   "file_extension": ".py",
   "mimetype": "text/x-python",
   "name": "python",
   "nbconvert_exporter": "python",
   "pygments_lexer": "ipython3",
   "version": "3.9.5"
  }
 },
 "nbformat": 4,
 "nbformat_minor": 5
}
