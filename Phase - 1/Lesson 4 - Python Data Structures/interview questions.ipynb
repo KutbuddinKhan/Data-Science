{
 "cells": [
  {
   "cell_type": "markdown",
   "id": "cd930b9a",
   "metadata": {},
   "source": [
    "## 📋 Part 1 — List"
   ]
  },
  {
   "cell_type": "markdown",
   "id": "3841a991",
   "metadata": {},
   "source": [
    "Q1. What is a list in Python?\n",
    "✅ Answer:\n",
    "\n",
    "    An ordered, mutable, collection that allows duplicate elements.\n",
    "\n",
    "    Declared using square brackets [ ]."
   ]
  },
  {
   "cell_type": "markdown",
   "id": "926769e2",
   "metadata": {},
   "source": [
    "Q2. How do you add an item to a list?\n",
    "\n",
    "✅ Answer:\n",
    "\n",
    "    append() adds item at the end."
   ]
  },
  {
   "cell_type": "code",
   "execution_count": 14,
   "id": "88339646",
   "metadata": {},
   "outputs": [
    {
     "name": "stdout",
     "output_type": "stream",
     "text": [
      "['apple', 'banana', 'cherry', 'orange']\n"
     ]
    }
   ],
   "source": [
    "fruits = [\"apple\", \"banana\", \"cherry\"]\n",
    "fruits.append(\"orange\")\n",
    "print(fruits)"
   ]
  },
  {
   "cell_type": "markdown",
   "id": "1c124f24",
   "metadata": {},
   "source": [
    "Q3. How do you insert an element at a specific position?\n",
    "\n",
    "✅ Answer:"
   ]
  },
  {
   "cell_type": "code",
   "execution_count": 15,
   "id": "66c8d533",
   "metadata": {},
   "outputs": [
    {
     "name": "stdout",
     "output_type": "stream",
     "text": [
      "['apple', 'kiwi', 'banana', 'cherry', 'orange']\n"
     ]
    }
   ],
   "source": [
    "fruits.insert(1, \"kiwi\") #insert at index 1\n",
    "print(fruits) # ['apple', 'kiwi', 'banana', 'cherry', 'orange']"
   ]
  },
  {
   "cell_type": "markdown",
   "id": "271c1be6",
   "metadata": {},
   "source": [
    "Q4. How do you remove an item from a list?\n",
    "\n",
    "✅ Answer:"
   ]
  },
  {
   "cell_type": "code",
   "execution_count": 16,
   "id": "da51346f",
   "metadata": {},
   "outputs": [
    {
     "name": "stdout",
     "output_type": "stream",
     "text": [
      "['apple', 'kiwi', 'cherry', 'orange']\n"
     ]
    }
   ],
   "source": [
    "fruits.remove(\"banana\") #remove by value\n",
    "print(fruits) # ['apple', 'kiwi', 'cherry', 'orange']"
   ]
  },
  {
   "cell_type": "markdown",
   "id": "92cb6550",
   "metadata": {},
   "source": [
    "Q5. What is the difference between remove() and pop()?\n",
    "✅ Answer:\n",
    "\n",
    "\n",
    "    Method\t        Usage\t                            Example\n",
    "    remove(value)\tRemoves by item value\t            list.remove(\"apple\")\n",
    "    pop(index)      Removes by index and returns it\t    list.pop(0)"
   ]
  },
  {
   "cell_type": "markdown",
   "id": "e0af7595",
   "metadata": {},
   "source": [
    "Q6. How do you copy a list?\n",
    "\n",
    "    ✅ Answer:\n",
    "    .copy() gives a shallow copy."
   ]
  },
  {
   "cell_type": "code",
   "execution_count": 17,
   "id": "243cb5ed",
   "metadata": {},
   "outputs": [
    {
     "name": "stdout",
     "output_type": "stream",
     "text": [
      "['apple', 'kiwi', 'cherry', 'orange']\n"
     ]
    }
   ],
   "source": [
    "list_copy = fruits.copy() #copy the list\n",
    "print(list_copy) # ['apple', 'kiwi', 'cherry', 'orange']"
   ]
  },
  {
   "cell_type": "markdown",
   "id": "073e03e0",
   "metadata": {},
   "source": [
    "Q7. How do you sort a list?\n",
    "\n",
    "    ✅ Answer:"
   ]
  },
  {
   "cell_type": "code",
   "execution_count": 18,
   "id": "121f0a1f",
   "metadata": {},
   "outputs": [
    {
     "name": "stdout",
     "output_type": "stream",
     "text": [
      "[1, 2, 2, 3, 4, 4]\n"
     ]
    }
   ],
   "source": [
    "numbers = [4, 2, 1,4,3,2]\n",
    "numbers.sort() #sort the list in place\n",
    "print(numbers) # [1, 2, 2, 3, 4, 4]"
   ]
  },
  {
   "cell_type": "markdown",
   "id": "aecd1937",
   "metadata": {},
   "source": [
    "Q8. How to create a list using list comprehension?\n",
    "    \n",
    "    ✅ Answer:"
   ]
  },
  {
   "cell_type": "code",
   "execution_count": 19,
   "id": "6f4e6120",
   "metadata": {},
   "outputs": [
    {
     "name": "stdout",
     "output_type": "stream",
     "text": [
      "[0, 1, 4, 9, 16, 25, 36, 49, 64, 81]\n"
     ]
    }
   ],
   "source": [
    "squares = [x**2 for x in range(10)] #list comprehension\n",
    "print(squares) # [0, 1, 4, 9, 16, 25, 36, 49, 64, 81]"
   ]
  },
  {
   "cell_type": "markdown",
   "id": "218fc480",
   "metadata": {},
   "source": [
    "## 📋 Part 2 — Tuples"
   ]
  },
  {
   "cell_type": "markdown",
   "id": "3d6091e0",
   "metadata": {},
   "source": [
    "Q9. What is a tuple?\n",
    "\n",
    "✅ Answer:\n",
    "\n",
    "A tuple is an ordered, immutable sequence of elements."
   ]
  },
  {
   "cell_type": "markdown",
   "id": "9d27e310",
   "metadata": {},
   "source": [
    "Q10. Why would you use a tuple instead of a list?\n",
    "\n",
    "✅ Answer:\n",
    "\n",
    "-    To protect data (immutability)\n",
    "\n",
    "-    Tuples are faster than lists in iteration\n",
    "\n",
    "-    Useful for fixed collections like coordinates"
   ]
  },
  {
   "cell_type": "markdown",
   "id": "2283f231",
   "metadata": {},
   "source": [
    "Q11. Can a tuple contain different types of data?\n",
    "\n",
    "✅ Answer:\n",
    "\n",
    "Yes! A tuple can mix strings, integers, floats, etc."
   ]
  },
  {
   "cell_type": "code",
   "execution_count": 20,
   "id": "cca54734",
   "metadata": {},
   "outputs": [],
   "source": [
    "person = (\"Ali\", 25, 4.5) #tuple"
   ]
  },
  {
   "cell_type": "markdown",
   "id": "69953690",
   "metadata": {},
   "source": [
    "Q12. How do you create a tuple with one element?\n",
    "\n",
    "✅ Answer:\n",
    "\n",
    "Notice the comma , is necessary."
   ]
  },
  {
   "cell_type": "code",
   "execution_count": 22,
   "id": "efa8f937",
   "metadata": {},
   "outputs": [
    {
     "name": "stdout",
     "output_type": "stream",
     "text": [
      "<class 'tuple'>\n",
      "(1,)\n"
     ]
    }
   ],
   "source": [
    "one_element_tuple = (1, ) #tuple with one element\n",
    "print(type(one_element_tuple)) # <class 'tuple'>\n",
    "print(one_element_tuple) # (1,)"
   ]
  },
  {
   "cell_type": "markdown",
   "id": "ad28d4f4",
   "metadata": {},
   "source": [
    "## 📋 Part 3 — Sets"
   ]
  },
  {
   "cell_type": "markdown",
   "id": "a7a544e0",
   "metadata": {},
   "source": [
    "Q13. What is a set?\n",
    "\n",
    "✅ Answer:\n",
    "\n",
    "An unordered collection of unique elements."
   ]
  },
  {
   "cell_type": "markdown",
   "id": "f693938f",
   "metadata": {},
   "source": [
    "Q14. Can a set have duplicate items?\n",
    "\n",
    "✅ Answer:\n",
    "\n",
    "❌ No. Only unique items are allowed."
   ]
  },
  {
   "cell_type": "markdown",
   "id": "3ccc0653",
   "metadata": {},
   "source": [
    "Q15. How to add elements to a set?\n",
    "\n",
    "✅ Answer:"
   ]
  },
  {
   "cell_type": "code",
   "execution_count": 24,
   "id": "7c6dcbe4",
   "metadata": {},
   "outputs": [
    {
     "name": "stdout",
     "output_type": "stream",
     "text": [
      "{1, 2, 3, 4, 10}\n"
     ]
    }
   ],
   "source": [
    "my_set = {1, 2, 3, 4} #set\n",
    "my_set.add(10)\n",
    "\n",
    "print(my_set)"
   ]
  },
  {
   "cell_type": "markdown",
   "id": "975b2f82",
   "metadata": {},
   "source": [
    "Q16. How do you find union, intersection, and difference of sets?\n",
    "\n",
    "✅ Answer:"
   ]
  },
  {
   "cell_type": "code",
   "execution_count": 25,
   "id": "df6d3322",
   "metadata": {},
   "outputs": [
    {
     "name": "stdout",
     "output_type": "stream",
     "text": [
      "{1, 2, 3, 4, 5}\n",
      "{3}\n",
      "{1, 2}\n"
     ]
    }
   ],
   "source": [
    "a = {1, 2, 3}\n",
    "b = {3, 4, 5}\n",
    "\n",
    "print(a.union(b)) # {1, 2, 3, 4, 5}\n",
    "print(a.intersection(b)) # {3}\n",
    "print(a.difference(b)) # {1, 2}"
   ]
  },
  {
   "cell_type": "markdown",
   "id": "23ab636a",
   "metadata": {},
   "source": [
    "Q17. How to remove an element from a set?\n",
    "\n",
    "✅ Answer:\n",
    "\n",
    "- remove() throws error if item missing\n",
    "\n",
    "- discard() does nothing if item missing"
   ]
  },
  {
   "cell_type": "code",
   "execution_count": 26,
   "id": "3d800de6",
   "metadata": {},
   "outputs": [
    {
     "name": "stdout",
     "output_type": "stream",
     "text": [
      "{1, 2, 3, 4}\n"
     ]
    }
   ],
   "source": [
    "my_set.remove(10) #remove by value\n",
    "print(my_set) # {1, 2, 3, 4}"
   ]
  },
  {
   "cell_type": "markdown",
   "id": "38dbaf1d",
   "metadata": {},
   "source": [
    "## 📋 Part 4 — Dictionaries"
   ]
  },
  {
   "cell_type": "markdown",
   "id": "a2268bcf",
   "metadata": {},
   "source": [
    "Q18. What is a dictionary?\n",
    "\n",
    "✅ Answer:\n",
    "\n",
    "- A collection of key-value pairs, where keys must be unique."
   ]
  },
  {
   "cell_type": "markdown",
   "id": "31dc0a9e",
   "metadata": {},
   "source": [
    "Q19. How to access values in a dictionary?\n",
    "\n",
    "✅ Answer:"
   ]
  },
  {
   "cell_type": "code",
   "execution_count": 27,
   "id": "2cf57254",
   "metadata": {},
   "outputs": [
    {
     "name": "stdout",
     "output_type": "stream",
     "text": [
      "Sara\n"
     ]
    }
   ],
   "source": [
    "person = {\"name\": \"Sara\", \"age\": 30, \"height\": 5.5} #dictionary\n",
    "print(person[\"name\"]) # Sara"
   ]
  },
  {
   "cell_type": "markdown",
   "id": "244b7cf9",
   "metadata": {},
   "source": [
    "Q20. How to update a dictionary?\n",
    "\n",
    "✅ Answer:\n"
   ]
  },
  {
   "cell_type": "code",
   "execution_count": 28,
   "id": "a84dd1e7",
   "metadata": {},
   "outputs": [],
   "source": [
    "person[\"age\"] = 31 #update value"
   ]
  },
  {
   "cell_type": "markdown",
   "id": "31ac430f",
   "metadata": {},
   "source": [
    "Q21. How to loop through a dictionary?\n",
    "\n",
    "✅ Answer:"
   ]
  },
  {
   "cell_type": "code",
   "execution_count": 29,
   "id": "839d1d15",
   "metadata": {},
   "outputs": [
    {
     "name": "stdout",
     "output_type": "stream",
     "text": [
      "name: Sara\n",
      "age: 31\n",
      "height: 5.5\n"
     ]
    }
   ],
   "source": [
    "for key, value in person.items():\n",
    "    print(f\"{key}: {value}\") # name: Sara, age: 31, height: 5.5"
   ]
  },
  {
   "cell_type": "markdown",
   "id": "74d989de",
   "metadata": {},
   "source": [
    "Q22. How to get only keys or only values from a dictionary?\n",
    "\n",
    "✅ Answer:"
   ]
  },
  {
   "cell_type": "code",
   "execution_count": 30,
   "id": "c32588af",
   "metadata": {},
   "outputs": [
    {
     "name": "stdout",
     "output_type": "stream",
     "text": [
      "dict_keys(['name', 'age', 'height'])\n",
      "dict_values(['Sara', 31, 5.5])\n"
     ]
    }
   ],
   "source": [
    "print(person.keys()) # dict_keys(['name', 'age', 'height'])\n",
    "print(person.values()) # dict_values(['Sara', 31, 5.5])"
   ]
  },
  {
   "cell_type": "markdown",
   "id": "48ee6e5f",
   "metadata": {},
   "source": [
    "Q23. How to check if a key exists in dictionary?\n",
    "\n",
    "✅ Answer:"
   ]
  },
  {
   "cell_type": "code",
   "execution_count": 31,
   "id": "e21ec6d1",
   "metadata": {},
   "outputs": [
    {
     "name": "stdout",
     "output_type": "stream",
     "text": [
      "Name exists in the dictionary\n"
     ]
    }
   ],
   "source": [
    "if \"name\" in person:\n",
    "    print(\"Name exists in the dictionary\") # Name exists in the dictionary\n",
    "else:\n",
    "    print(\"Name does not exist in the dictionary\")"
   ]
  },
  {
   "cell_type": "markdown",
   "id": "ff669cfb",
   "metadata": {},
   "source": [
    "## 📋 Part 5 — Combined & Tricky Questions"
   ]
  },
  {
   "cell_type": "markdown",
   "id": "589559a7",
   "metadata": {},
   "source": [
    "Q24. What is the output?"
   ]
  },
  {
   "cell_type": "markdown",
   "id": "6a2578d1",
   "metadata": {},
   "source": [
    "    🔎 Explanation:\n",
    "    Both a and b point to same list in memory.\n",
    "\n"
   ]
  },
  {
   "cell_type": "code",
   "execution_count": 32,
   "id": "9770aa41",
   "metadata": {},
   "outputs": [
    {
     "name": "stdout",
     "output_type": "stream",
     "text": [
      "[1, 2, 3, 4]\n"
     ]
    }
   ],
   "source": [
    "a = [1, 2, 3]\n",
    "b = a \n",
    "b.append(4) # b is a reference to a, so it modifies a as well\n",
    "print(a) # [1, 2, 3, 4]"
   ]
  },
  {
   "cell_type": "markdown",
   "id": "3f9837bd",
   "metadata": {},
   "source": [
    "Q25. How can you copy a list without linking it?\n",
    "\n",
    "✅ Answer:"
   ]
  },
  {
   "cell_type": "code",
   "execution_count": 34,
   "id": "1c4612c5",
   "metadata": {},
   "outputs": [
    {
     "name": "stdout",
     "output_type": "stream",
     "text": [
      "[1, 2, 3, 4]\n"
     ]
    }
   ],
   "source": [
    "b = a.copy()\n",
    "print(b)"
   ]
  },
  {
   "cell_type": "markdown",
   "id": "74bd2beb",
   "metadata": {},
   "source": [
    "Q26. How to merge two lists into one?\n",
    "\n",
    "✅ Answer:"
   ]
  },
  {
   "cell_type": "code",
   "execution_count": 35,
   "id": "009ad221",
   "metadata": {},
   "outputs": [
    {
     "name": "stdout",
     "output_type": "stream",
     "text": [
      "[1, 2, 3, 4, 5, 6]\n"
     ]
    }
   ],
   "source": [
    "list1 = [1, 2, 3]\n",
    "list2 = [4, 5, 6]\n",
    "merged = list1 + list2 #concatenate two lists\n",
    "print(merged) # [1, 2, 3, 4, 5, 6]"
   ]
  },
  {
   "cell_type": "markdown",
   "id": "3603c61f",
   "metadata": {},
   "source": [
    "Q27. How to sort a dictionary by keys?\n",
    "\n",
    "✅ Answer:"
   ]
  },
  {
   "cell_type": "code",
   "execution_count": 36,
   "id": "eb569ccd",
   "metadata": {},
   "outputs": [
    {
     "name": "stdout",
     "output_type": "stream",
     "text": [
      "{'age': 31, 'height': 5.5, 'name': 'Sara'}\n"
     ]
    }
   ],
   "source": [
    "sorted_dict = dict(sorted(person.items()))\n",
    "print(sorted_dict) # {'age': 31, 'height': 5.5, 'name': 'Sara'}"
   ]
  },
  {
   "cell_type": "markdown",
   "id": "73520d3d",
   "metadata": {},
   "source": [
    "Q28. How do you remove duplicates from a list?\n",
    "\n",
    "✅ Answer:"
   ]
  },
  {
   "cell_type": "code",
   "execution_count": 38,
   "id": "c97a1d94",
   "metadata": {},
   "outputs": [
    {
     "name": "stdout",
     "output_type": "stream",
     "text": [
      "[1, 2, 3, 4, 5]\n"
     ]
    }
   ],
   "source": [
    "unique_list = list(set([1, 2, 2, 3, 4, 4, 5])) #remove duplicates\n",
    "print(unique_list) # [1, 2, 3, 4, 5]"
   ]
  },
  {
   "cell_type": "markdown",
   "id": "ac877c81",
   "metadata": {},
   "source": [
    "Q29. What happens if you try to access a key that doesn't exist in a dictionary?\n",
    "\n",
    "✅ Answer:\n",
    "\n",
    "- Error: KeyError\n",
    "\n",
    "- Better way: Use .get() method.\n",
    "\n",
    "\n",
    "- Same concept as list comprehension but for dictionaries."
   ]
  },
  {
   "cell_type": "code",
   "execution_count": 42,
   "id": "f1ca2eb0",
   "metadata": {},
   "outputs": [
    {
     "name": "stdout",
     "output_type": "stream",
     "text": [
      "Sara\n",
      "Not found\n"
     ]
    }
   ],
   "source": [
    "print(person.get(\"name\", \"Not found\")) #get value by key with default value\n",
    "print(person.get(\"surname\", \"Not found\")) # Not found"
   ]
  },
  {
   "cell_type": "code",
   "execution_count": null,
   "id": "48d44821",
   "metadata": {},
   "outputs": [],
   "source": []
  }
 ],
 "metadata": {
  "kernelspec": {
   "display_name": "Python 3",
   "language": "python",
   "name": "python3"
  },
  "language_info": {
   "codemirror_mode": {
    "name": "ipython",
    "version": 3
   },
   "file_extension": ".py",
   "mimetype": "text/x-python",
   "name": "python",
   "nbconvert_exporter": "python",
   "pygments_lexer": "ipython3",
   "version": "3.9.5"
  }
 },
 "nbformat": 4,
 "nbformat_minor": 5
}
