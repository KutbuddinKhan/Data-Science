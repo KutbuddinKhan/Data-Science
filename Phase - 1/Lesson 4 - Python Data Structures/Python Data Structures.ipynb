{
 "cells": [
  {
   "cell_type": "markdown",
   "id": "dbf7e1b8",
   "metadata": {},
   "source": [
    "    LISTS (Ordered, Mutable)\n",
    "\n",
    "Syntax:"
   ]
  },
  {
   "cell_type": "code",
   "execution_count": 33,
   "id": "c41f6bf7",
   "metadata": {},
   "outputs": [],
   "source": [
    "my_list = [1, 2, 3, 4]"
   ]
  },
  {
   "cell_type": "markdown",
   "id": "6fc7de74",
   "metadata": {},
   "source": [
    "    🔥 Common Operations:"
   ]
  },
  {
   "cell_type": "markdown",
   "id": "736a2202",
   "metadata": {},
   "source": [
    "    Creating    "
   ]
  },
  {
   "cell_type": "code",
   "execution_count": 34,
   "id": "2cf438f6",
   "metadata": {},
   "outputs": [],
   "source": [
    "fruits = ['apple', 'banana', 'cherry']"
   ]
  },
  {
   "cell_type": "markdown",
   "id": "a70e57f0",
   "metadata": {},
   "source": [
    "    Accessing"
   ]
  },
  {
   "cell_type": "code",
   "execution_count": 35,
   "id": "3b83af53",
   "metadata": {},
   "outputs": [
    {
     "name": "stdout",
     "output_type": "stream",
     "text": [
      "apple\n"
     ]
    }
   ],
   "source": [
    "print(fruits[0])  # Output: apple"
   ]
  },
  {
   "cell_type": "markdown",
   "id": "098ba08d",
   "metadata": {},
   "source": [
    "    Changing"
   ]
  },
  {
   "cell_type": "code",
   "execution_count": 36,
   "id": "88e55b0b",
   "metadata": {},
   "outputs": [
    {
     "name": "stdout",
     "output_type": "stream",
     "text": [
      "['apple', 'blueberry', 'cherry']\n"
     ]
    }
   ],
   "source": [
    "fruits[1] = 'blueberry'  # Change value\n",
    "print(fruits)  # Output: ['apple', 'blueberry', 'cherry']"
   ]
  },
  {
   "cell_type": "markdown",
   "id": "832331e4",
   "metadata": {},
   "source": [
    "    Adding"
   ]
  },
  {
   "cell_type": "code",
   "execution_count": 37,
   "id": "b89aa8d3",
   "metadata": {},
   "outputs": [
    {
     "name": "stdout",
     "output_type": "stream",
     "text": [
      "['apple', 'blueberry', 'cherry', 'orange']\n"
     ]
    }
   ],
   "source": [
    "fruits.append('orange')  # Add value\n",
    "print(fruits)  # Output: ['apple', 'blueberry', 'cherry', 'orange']"
   ]
  },
  {
   "cell_type": "markdown",
   "id": "0eb357d9",
   "metadata": {},
   "source": [
    "    Removing"
   ]
  },
  {
   "cell_type": "code",
   "execution_count": 38,
   "id": "a17c2340",
   "metadata": {},
   "outputs": [
    {
     "name": "stdout",
     "output_type": "stream",
     "text": [
      "['blueberry', 'cherry', 'orange']\n"
     ]
    }
   ],
   "source": [
    "fruits.remove('apple')  # Remove value\n",
    "print(fruits)  # Output: ['blueberry', 'cherry', 'orange']"
   ]
  },
  {
   "cell_type": "markdown",
   "id": "8653f02f",
   "metadata": {},
   "source": [
    "    Slicing"
   ]
  },
  {
   "cell_type": "code",
   "execution_count": 39,
   "id": "9e64fa90",
   "metadata": {},
   "outputs": [
    {
     "name": "stdout",
     "output_type": "stream",
     "text": [
      "['blueberry', 'cherry']\n"
     ]
    }
   ],
   "source": [
    "print(fruits[0:2])  # Output: ['blueberry', 'cherry']"
   ]
  },
  {
   "cell_type": "markdown",
   "id": "aa1efb07",
   "metadata": {},
   "source": [
    "    Length"
   ]
  },
  {
   "cell_type": "code",
   "execution_count": 40,
   "id": "a01d80a2",
   "metadata": {},
   "outputs": [
    {
     "name": "stdout",
     "output_type": "stream",
     "text": [
      "3\n"
     ]
    }
   ],
   "source": [
    "print(len(fruits))  # Output: 3"
   ]
  },
  {
   "cell_type": "markdown",
   "id": "7717236f",
   "metadata": {},
   "source": [
    "    TUPLES (Ordered, Immutable)\n",
    "\n",
    "Syntax"
   ]
  },
  {
   "cell_type": "code",
   "execution_count": 41,
   "id": "88c81cac",
   "metadata": {},
   "outputs": [],
   "source": [
    "my_tuple = (1, 2, 3, 4)"
   ]
  },
  {
   "cell_type": "markdown",
   "id": "7e0314ff",
   "metadata": {},
   "source": [
    "🔥 Common Operations:"
   ]
  },
  {
   "cell_type": "markdown",
   "id": "b0859d7c",
   "metadata": {},
   "source": [
    "    Creating"
   ]
  },
  {
   "cell_type": "code",
   "execution_count": 42,
   "id": "6051bcc3",
   "metadata": {},
   "outputs": [],
   "source": [
    "dimensions = (200, 50)"
   ]
  },
  {
   "cell_type": "markdown",
   "id": "3c207572",
   "metadata": {},
   "source": [
    "    Accessing"
   ]
  },
  {
   "cell_type": "code",
   "execution_count": 43,
   "id": "43194afd",
   "metadata": {},
   "outputs": [
    {
     "name": "stdout",
     "output_type": "stream",
     "text": [
      "200\n"
     ]
    }
   ],
   "source": [
    "print(dimensions[0])  # Output: 200"
   ]
  },
  {
   "cell_type": "markdown",
   "id": "c247ab13",
   "metadata": {},
   "source": [
    "    # Cannot Change!\n",
    "    # dimensions[0] = 30  # ❌ Error\n",
    "\n",
    "    # Useful for fixed data: (x, y), (latitude, longitude)"
   ]
  },
  {
   "cell_type": "markdown",
   "id": "42badcfb",
   "metadata": {},
   "source": [
    "Real-Life Example (Tuple):\n",
    "\n",
    "Coordinates of a place: (25.276987, 55.296249) (Dubai)"
   ]
  },
  {
   "cell_type": "markdown",
   "id": "ba2648e0",
   "metadata": {},
   "source": [
    "    SETS (Unordered, Unique Items)\n",
    "\n",
    "Syntax:"
   ]
  },
  {
   "cell_type": "code",
   "execution_count": 44,
   "id": "122c710c",
   "metadata": {},
   "outputs": [],
   "source": [
    "my_set = {1, 2, 3, 4}"
   ]
  },
  {
   "cell_type": "markdown",
   "id": "e76e70d8",
   "metadata": {},
   "source": [
    "    Creating"
   ]
  },
  {
   "cell_type": "code",
   "execution_count": 45,
   "id": "83939cbd",
   "metadata": {},
   "outputs": [
    {
     "name": "stdout",
     "output_type": "stream",
     "text": [
      "{1, 2, 3, 4}\n"
     ]
    }
   ],
   "source": [
    "numbers = {1, 2, 3, 4} \n",
    "print(numbers)  # Output: {1, 2, 3, 4}"
   ]
  },
  {
   "cell_type": "markdown",
   "id": "cc1e3462",
   "metadata": {},
   "source": [
    "    Adding"
   ]
  },
  {
   "cell_type": "code",
   "execution_count": 46,
   "id": "edfed14e",
   "metadata": {},
   "outputs": [
    {
     "name": "stdout",
     "output_type": "stream",
     "text": [
      "{1, 2, 3, 4, 5}\n"
     ]
    }
   ],
   "source": [
    "numbers.add(5)  # Add value\n",
    "print(numbers)  # Output: {1, 2, 3, 4, 5}"
   ]
  },
  {
   "cell_type": "markdown",
   "id": "519dff7a",
   "metadata": {},
   "source": [
    "    Removing"
   ]
  },
  {
   "cell_type": "code",
   "execution_count": 47,
   "id": "b20287f4",
   "metadata": {},
   "outputs": [
    {
     "name": "stdout",
     "output_type": "stream",
     "text": [
      "{2, 3, 4, 5}\n"
     ]
    }
   ],
   "source": [
    "numbers.remove(1)  # Remove value\n",
    "print(numbers)  # Output: {2, 3, 4, 5}"
   ]
  },
  {
   "cell_type": "markdown",
   "id": "359f2a7e",
   "metadata": {},
   "source": [
    "    Set Operations"
   ]
  },
  {
   "cell_type": "code",
   "execution_count": 48,
   "id": "df1c63d5",
   "metadata": {},
   "outputs": [],
   "source": [
    "a = {1, 2, 3}\n",
    "b = {3, 4, 5}"
   ]
  },
  {
   "cell_type": "code",
   "execution_count": 49,
   "id": "51ab51f5",
   "metadata": {},
   "outputs": [
    {
     "name": "stdout",
     "output_type": "stream",
     "text": [
      "{1, 2, 3, 4, 5}\n",
      "{3}\n"
     ]
    }
   ],
   "source": [
    "print(a.union(b))  # Output: {1, 2, 3, 4, 5}\n",
    "print(a.intersection(b))  # Output: {3}"
   ]
  },
  {
   "cell_type": "markdown",
   "id": "afd7c350",
   "metadata": {},
   "source": [
    "    DICTIONARIES (Key-Value Pairs)\n",
    "\n",
    "Syntax:"
   ]
  },
  {
   "cell_type": "code",
   "execution_count": 1,
   "id": "fbea085e",
   "metadata": {},
   "outputs": [],
   "source": [
    "person = {\"name\": \"Ali\", \"age\": 30}"
   ]
  },
  {
   "cell_type": "markdown",
   "id": "b8be237c",
   "metadata": {},
   "source": [
    "🔥 Common Operations:"
   ]
  },
  {
   "cell_type": "markdown",
   "id": "f4f773f8",
   "metadata": {},
   "source": [
    "    Creating"
   ]
  },
  {
   "cell_type": "code",
   "execution_count": 2,
   "id": "d2a144fa",
   "metadata": {},
   "outputs": [],
   "source": [
    "person = {\"name\": \"Ali\", \"age\": 25}"
   ]
  },
  {
   "cell_type": "markdown",
   "id": "f6b7ad92",
   "metadata": {},
   "source": [
    "    Accessing"
   ]
  },
  {
   "cell_type": "code",
   "execution_count": 3,
   "id": "d6121e10",
   "metadata": {},
   "outputs": [
    {
     "name": "stdout",
     "output_type": "stream",
     "text": [
      "Ali\n"
     ]
    }
   ],
   "source": [
    "print(person[\"name\"])  # Output: Ali"
   ]
  },
  {
   "cell_type": "markdown",
   "id": "1d1856fa",
   "metadata": {},
   "source": [
    "    Changing"
   ]
  },
  {
   "cell_type": "code",
   "execution_count": 4,
   "id": "c5d49e1c",
   "metadata": {},
   "outputs": [],
   "source": [
    "person[\"age\"] = 31  # Change value"
   ]
  },
  {
   "cell_type": "markdown",
   "id": "9b931c1d",
   "metadata": {},
   "source": [
    "    Adding"
   ]
  },
  {
   "cell_type": "code",
   "execution_count": 5,
   "id": "14232c8d",
   "metadata": {},
   "outputs": [
    {
     "name": "stdout",
     "output_type": "stream",
     "text": [
      "{'name': 'Ali', 'age': 31, 'city': 'New York'}\n"
     ]
    }
   ],
   "source": [
    "person['city'] = 'New York'  # Add value\n",
    "print(person)  # Output: {'name': 'Ali', 'age': 31, 'city': 'New York'}"
   ]
  },
  {
   "cell_type": "markdown",
   "id": "ff75c3d9",
   "metadata": {},
   "source": [
    "    Removing"
   ]
  },
  {
   "cell_type": "code",
   "execution_count": 6,
   "id": "c793adb8",
   "metadata": {},
   "outputs": [],
   "source": [
    "del person[\"city\"]  # Remove value"
   ]
  },
  {
   "cell_type": "code",
   "execution_count": 7,
   "id": "4e0a60a6",
   "metadata": {},
   "outputs": [
    {
     "name": "stdout",
     "output_type": "stream",
     "text": [
      "{'name': 'Ali', 'age': 31}\n"
     ]
    }
   ],
   "source": [
    "print(person)  # Output: {'name': 'Ali', 'age': 31}"
   ]
  },
  {
   "cell_type": "markdown",
   "id": "f59c7b59",
   "metadata": {},
   "source": [
    "    Keys and values"
   ]
  },
  {
   "cell_type": "code",
   "execution_count": 8,
   "id": "55471bdb",
   "metadata": {},
   "outputs": [
    {
     "name": "stdout",
     "output_type": "stream",
     "text": [
      "dict_keys(['name', 'age'])\n",
      "dict_values(['Ali', 31])\n"
     ]
    }
   ],
   "source": [
    "print(person.keys())  # Output: dict_keys(['name', 'age'])\n",
    "print(person.values())  # Output: dict_values(['Ali', 31])"
   ]
  },
  {
   "cell_type": "code",
   "execution_count": null,
   "id": "611d0922",
   "metadata": {},
   "outputs": [],
   "source": []
  }
 ],
 "metadata": {
  "kernelspec": {
   "display_name": "Python 3",
   "language": "python",
   "name": "python3"
  },
  "language_info": {
   "codemirror_mode": {
    "name": "ipython",
    "version": 3
   },
   "file_extension": ".py",
   "mimetype": "text/x-python",
   "name": "python",
   "nbconvert_exporter": "python",
   "pygments_lexer": "ipython3",
   "version": "3.9.5"
  }
 },
 "nbformat": 4,
 "nbformat_minor": 5
}
